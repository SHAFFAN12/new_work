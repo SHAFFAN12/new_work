{
  "cells": [
    {
      "cell_type": "markdown",
      "id": "063a92fc",
      "metadata": {
        "papermill": {
          "duration": 0.015303,
          "end_time": "2024-05-24T20:52:09.715356",
          "exception": false,
          "start_time": "2024-05-24T20:52:09.700053",
          "status": "completed"
        },
        "tags": [],
        "id": "063a92fc"
      },
      "source": [
        "## Import Necessary Libraries"
      ]
    },
    {
      "cell_type": "code",
      "execution_count": 1,
      "id": "6e11f5a2",
      "metadata": {
        "_cell_guid": "b1076dfc-b9ad-4769-8c92-a6c4dae69d19",
        "_kg_hide-input": true,
        "_uuid": "8f2839f25d086af736a60e9eeb907d3b93b6e0e5",
        "execution": {
          "iopub.execute_input": "2024-05-24T20:52:09.747241Z",
          "iopub.status.busy": "2024-05-24T20:52:09.746455Z",
          "iopub.status.idle": "2024-05-24T20:52:12.768114Z",
          "shell.execute_reply": "2024-05-24T20:52:12.767125Z"
        },
        "papermill": {
          "duration": 3.039899,
          "end_time": "2024-05-24T20:52:12.770380",
          "exception": false,
          "start_time": "2024-05-24T20:52:09.730481",
          "status": "completed"
        },
        "tags": [],
        "id": "6e11f5a2"
      },
      "outputs": [],
      "source": [
        "import numpy as np\n",
        "import pandas as pd\n",
        "import matplotlib.pyplot as plt\n",
        "import seaborn as sns\n",
        "%matplotlib inline\n",
        "\n",
        "from sklearn.model_selection import train_test_split\n",
        "from sklearn.preprocessing import OneHotEncoder, StandardScaler, LabelEncoder\n",
        "from sklearn.compose import make_column_transformer\n",
        "from sklearn.ensemble import RandomForestClassifier\n",
        "from sklearn.metrics import accuracy_score\n",
        "from sklearn.metrics import confusion_matrix as cm\n",
        "from sklearn.metrics import classification_report\n",
        "\n",
        "from sklearn.naive_bayes import GaussianNB , BernoulliNB , MultinomialNB\n",
        "from sklearn.tree import DecisionTreeClassifier , DecisionTreeRegressor\n",
        "from sklearn.ensemble import RandomForestClassifier , AdaBoostClassifier ,RandomForestRegressor , AdaBoostRegressor\n",
        "from xgboost import XGBClassifier , XGBRegressor\n",
        "from sklearn.linear_model import LinearRegression ,LogisticRegression\n",
        "from sklearn.neighbors import KNeighborsRegressor , KNeighborsClassifier\n",
        "from sklearn.ensemble import GradientBoostingRegressor , GradientBoostingClassifier\n",
        "from sklearn.svm import SVC , SVR\n",
        "from sklearn.model_selection import GridSearchCV , RandomizedSearchCV\n",
        "from sklearn.metrics import mean_squared_error , mean_absolute_error , r2_score , classification_report , accuracy_score , f1_score , precision_score\n",
        "import pickle\n",
        "\n",
        "import warnings\n",
        "warnings.filterwarnings('ignore')\n",
        "\n",
        "import os\n",
        "for dirname, _, filenames in os.walk('/kaggle/input'):\n",
        "    for filename in filenames:\n",
        "        print(os.path.join(dirname, filename))"
      ]
    },
    {
      "cell_type": "markdown",
      "id": "98ca6722",
      "metadata": {
        "papermill": {
          "duration": 0.014569,
          "end_time": "2024-05-24T20:52:12.801576",
          "exception": false,
          "start_time": "2024-05-24T20:52:12.787007",
          "status": "completed"
        },
        "tags": [],
        "id": "98ca6722"
      },
      "source": [
        "## Read the CSV file into Pandas DataFrame"
      ]
    },
    {
      "cell_type": "code",
      "execution_count": 3,
      "id": "21b6b938",
      "metadata": {
        "_kg_hide-input": true,
        "execution": {
          "iopub.execute_input": "2024-05-24T20:52:12.833799Z",
          "iopub.status.busy": "2024-05-24T20:52:12.833247Z",
          "iopub.status.idle": "2024-05-24T20:52:12.854614Z",
          "shell.execute_reply": "2024-05-24T20:52:12.853470Z"
        },
        "papermill": {
          "duration": 0.041139,
          "end_time": "2024-05-24T20:52:12.857438",
          "exception": false,
          "start_time": "2024-05-24T20:52:12.816299",
          "status": "completed"
        },
        "tags": [],
        "id": "21b6b938"
      },
      "outputs": [],
      "source": [
        "df = pd.read_csv('/content/Thyroid_Diff.csv')"
      ]
    },
    {
      "cell_type": "markdown",
      "id": "507b5ef8",
      "metadata": {
        "papermill": {
          "duration": 0.014337,
          "end_time": "2024-05-24T20:52:12.886887",
          "exception": false,
          "start_time": "2024-05-24T20:52:12.872550",
          "status": "completed"
        },
        "tags": [],
        "id": "507b5ef8"
      },
      "source": [
        "# Summary"
      ]
    },
    {
      "cell_type": "markdown",
      "id": "66ebe71d",
      "metadata": {
        "papermill": {
          "duration": 0.014373,
          "end_time": "2024-05-24T20:52:12.916069",
          "exception": false,
          "start_time": "2024-05-24T20:52:12.901696",
          "status": "completed"
        },
        "tags": [],
        "id": "66ebe71d"
      },
      "source": [
        "This notebook aims to predict the recurrence of well differentiated Thyroid cancer.\n",
        "\n",
        "**If this notebook is helpful for you, please consider upvoting 🙏**\n",
        "\n",
        "What is Thyroid cancer?\n",
        "\n",
        "**Definition:** *Thyroid cancer is a type of malignancy that originates in the thyroid gland, a small butterfly-shaped gland located at the base of the neck. This cancer can present in various forms, including papillary, follicular, medullary, and anaplastic thyroid cancer, each with distinct characteristics and levels of aggressiveness. Papillary thyroid cancer is the most common and typically has a favorable prognosis. Symptoms of thyroid cancer may include a lump in the neck, trouble swallowing, hoarseness, and swollen lymph nodes. Risk factors encompass exposure to radiation, a family history of thyroid cancer, and certain genetic conditions. Treatment often involves a combination of surgery, radioactive iodine therapy, and, in some cases, thyroid hormone therapy or targeted drug therapy. Early detection and advances in treatment have significantly improved the prognosis for most thyroid cancer patients.*\n",
        "\n",
        "Work like this serves to increase the chances of early detection of recurrence. It is important for patients to understand the likelihood of recurrence so they can adjust their lifestyle and follow-up with their healthcare provider accordingly.\n",
        "\n",
        "**Some information about the dataset:**\n",
        "\n",
        "Dataset Characteristics: Tabular\\\n",
        "Feature Type: Real, Categorical, Integer\\\n",
        "Features: 16\\\n",
        "Associated Tasks: Classification\n",
        "\n",
        "**Variables:**\n",
        "* Age: Feature, Integer\n",
        "* Gender: Feature, Categorical\n",
        "* Smoking: Feature, Categorical\n",
        "* Hx Smoking: Feature, Categorical\n",
        "* Hx Radiothreapy: Feature, Categorical\n",
        "* Thyroid Function: Feature, Categorical\n",
        "* Physical Examination: Feature, Categorical\n",
        "* Adenopathy: Feature, Categorical\n",
        "* Pathology: Feature, Categorical\n",
        "* Focality: Feature, Categorical\n",
        "* Risk: Feature, Categorical\n",
        "* T: Feature, Categorical\n",
        "* N: Feature, Categorical\n",
        "* M: Feature, Categorical\n",
        "* Stage: Feature, Categorical\n",
        "* Response: Feature, Categorical\n",
        "\n",
        "**Target Variable:**\n",
        "* Recurred: Target, Categorical."
      ]
    },
    {
      "cell_type": "markdown",
      "id": "c8b3a4e5",
      "metadata": {
        "papermill": {
          "duration": 0.01429,
          "end_time": "2024-05-24T20:52:12.945281",
          "exception": false,
          "start_time": "2024-05-24T20:52:12.930991",
          "status": "completed"
        },
        "tags": [],
        "id": "c8b3a4e5"
      },
      "source": [
        "# 1. Exploratory Data Analysis"
      ]
    },
    {
      "cell_type": "markdown",
      "id": "5c5930ba",
      "metadata": {
        "papermill": {
          "duration": 0.014329,
          "end_time": "2024-05-24T20:52:12.974744",
          "exception": false,
          "start_time": "2024-05-24T20:52:12.960415",
          "status": "completed"
        },
        "tags": [],
        "id": "5c5930ba"
      },
      "source": [
        "## 1.1 Datatypes and a Cursory glance at Data"
      ]
    },
    {
      "cell_type": "markdown",
      "id": "4f3cd521",
      "metadata": {
        "papermill": {
          "duration": 0.014991,
          "end_time": "2024-05-24T20:52:13.004203",
          "exception": false,
          "start_time": "2024-05-24T20:52:12.989212",
          "status": "completed"
        },
        "tags": [],
        "id": "4f3cd521"
      },
      "source": [
        "I want to confirm what the dataset provider asserts regarding the variables:"
      ]
    },
    {
      "cell_type": "code",
      "execution_count": 4,
      "id": "fafe38b5",
      "metadata": {
        "_kg_hide-input": true,
        "execution": {
          "iopub.execute_input": "2024-05-24T20:52:13.035484Z",
          "iopub.status.busy": "2024-05-24T20:52:13.034858Z",
          "iopub.status.idle": "2024-05-24T20:52:13.068832Z",
          "shell.execute_reply": "2024-05-24T20:52:13.067164Z"
        },
        "papermill": {
          "duration": 0.052387,
          "end_time": "2024-05-24T20:52:13.071272",
          "exception": false,
          "start_time": "2024-05-24T20:52:13.018885",
          "status": "completed"
        },
        "tags": [],
        "colab": {
          "base_uri": "https://localhost:8080/"
        },
        "id": "fafe38b5",
        "outputId": "5af16641-8852-48ac-8203-86fb965932e4"
      },
      "outputs": [
        {
          "output_type": "stream",
          "name": "stdout",
          "text": [
            "<class 'pandas.core.frame.DataFrame'>\n",
            "RangeIndex: 383 entries, 0 to 382\n",
            "Data columns (total 17 columns):\n",
            " #   Column                Non-Null Count  Dtype \n",
            "---  ------                --------------  ----- \n",
            " 0   Age                   383 non-null    int64 \n",
            " 1   Gender                383 non-null    object\n",
            " 2   Smoking               383 non-null    object\n",
            " 3   Hx Smoking            383 non-null    object\n",
            " 4   Hx Radiothreapy       383 non-null    object\n",
            " 5   Thyroid Function      383 non-null    object\n",
            " 6   Physical Examination  383 non-null    object\n",
            " 7   Adenopathy            383 non-null    object\n",
            " 8   Pathology             383 non-null    object\n",
            " 9   Focality              383 non-null    object\n",
            " 10  Risk                  383 non-null    object\n",
            " 11  T                     383 non-null    object\n",
            " 12  N                     383 non-null    object\n",
            " 13  M                     383 non-null    object\n",
            " 14  Stage                 383 non-null    object\n",
            " 15  Response              383 non-null    object\n",
            " 16  Recurred              383 non-null    object\n",
            "dtypes: int64(1), object(16)\n",
            "memory usage: 51.0+ KB\n"
          ]
        }
      ],
      "source": [
        "df.info()"
      ]
    },
    {
      "cell_type": "markdown",
      "id": "3f497020",
      "metadata": {
        "papermill": {
          "duration": 0.014532,
          "end_time": "2024-05-24T20:52:13.100708",
          "exception": false,
          "start_time": "2024-05-24T20:52:13.086176",
          "status": "completed"
        },
        "tags": [],
        "id": "3f497020"
      },
      "source": [
        "This seems to match up with what the dataset summary asserts: There is 1 numerical feature and the rest are categorical. There are no null values in the dataset to address in the pre-processing stage. It looks like a relatively small dataset (383 entries) and also a clean dataset (no null). This is a good starting block for exploratory data analysis.\n",
        "\n",
        "I'll take a look at the first and last 5 rows of the dataset before proceeding."
      ]
    },
    {
      "cell_type": "code",
      "execution_count": 5,
      "id": "687e8e74",
      "metadata": {
        "_kg_hide-input": true,
        "execution": {
          "iopub.execute_input": "2024-05-24T20:52:13.132043Z",
          "iopub.status.busy": "2024-05-24T20:52:13.131644Z",
          "iopub.status.idle": "2024-05-24T20:52:13.154997Z",
          "shell.execute_reply": "2024-05-24T20:52:13.153750Z"
        },
        "papermill": {
          "duration": 0.042022,
          "end_time": "2024-05-24T20:52:13.157301",
          "exception": false,
          "start_time": "2024-05-24T20:52:13.115279",
          "status": "completed"
        },
        "tags": [],
        "colab": {
          "base_uri": "https://localhost:8080/",
          "height": 382
        },
        "id": "687e8e74",
        "outputId": "4bd41ae7-5c53-4518-d5a7-95ffd5f0285d"
      },
      "outputs": [
        {
          "output_type": "execute_result",
          "data": {
            "text/plain": [
              "   Age Gender Smoking Hx Smoking Hx Radiothreapy Thyroid Function  \\\n",
              "0   27      F      No         No              No        Euthyroid   \n",
              "1   34      F      No        Yes              No        Euthyroid   \n",
              "2   30      F      No         No              No        Euthyroid   \n",
              "3   62      F      No         No              No        Euthyroid   \n",
              "4   62      F      No         No              No        Euthyroid   \n",
              "\n",
              "          Physical Examination Adenopathy       Pathology     Focality Risk  \\\n",
              "0   Single nodular goiter-left         No  Micropapillary    Uni-Focal  Low   \n",
              "1          Multinodular goiter         No  Micropapillary    Uni-Focal  Low   \n",
              "2  Single nodular goiter-right         No  Micropapillary    Uni-Focal  Low   \n",
              "3  Single nodular goiter-right         No  Micropapillary    Uni-Focal  Low   \n",
              "4          Multinodular goiter         No  Micropapillary  Multi-Focal  Low   \n",
              "\n",
              "     T   N   M Stage       Response Recurred  \n",
              "0  T1a  N0  M0     I  Indeterminate       No  \n",
              "1  T1a  N0  M0     I      Excellent       No  \n",
              "2  T1a  N0  M0     I      Excellent       No  \n",
              "3  T1a  N0  M0     I      Excellent       No  \n",
              "4  T1a  N0  M0     I      Excellent       No  "
            ],
            "text/html": [
              "\n",
              "  <div id=\"df-19295272-26ca-47fe-a0e6-234ab5f73a09\" class=\"colab-df-container\">\n",
              "    <div>\n",
              "<style scoped>\n",
              "    .dataframe tbody tr th:only-of-type {\n",
              "        vertical-align: middle;\n",
              "    }\n",
              "\n",
              "    .dataframe tbody tr th {\n",
              "        vertical-align: top;\n",
              "    }\n",
              "\n",
              "    .dataframe thead th {\n",
              "        text-align: right;\n",
              "    }\n",
              "</style>\n",
              "<table border=\"1\" class=\"dataframe\">\n",
              "  <thead>\n",
              "    <tr style=\"text-align: right;\">\n",
              "      <th></th>\n",
              "      <th>Age</th>\n",
              "      <th>Gender</th>\n",
              "      <th>Smoking</th>\n",
              "      <th>Hx Smoking</th>\n",
              "      <th>Hx Radiothreapy</th>\n",
              "      <th>Thyroid Function</th>\n",
              "      <th>Physical Examination</th>\n",
              "      <th>Adenopathy</th>\n",
              "      <th>Pathology</th>\n",
              "      <th>Focality</th>\n",
              "      <th>Risk</th>\n",
              "      <th>T</th>\n",
              "      <th>N</th>\n",
              "      <th>M</th>\n",
              "      <th>Stage</th>\n",
              "      <th>Response</th>\n",
              "      <th>Recurred</th>\n",
              "    </tr>\n",
              "  </thead>\n",
              "  <tbody>\n",
              "    <tr>\n",
              "      <th>0</th>\n",
              "      <td>27</td>\n",
              "      <td>F</td>\n",
              "      <td>No</td>\n",
              "      <td>No</td>\n",
              "      <td>No</td>\n",
              "      <td>Euthyroid</td>\n",
              "      <td>Single nodular goiter-left</td>\n",
              "      <td>No</td>\n",
              "      <td>Micropapillary</td>\n",
              "      <td>Uni-Focal</td>\n",
              "      <td>Low</td>\n",
              "      <td>T1a</td>\n",
              "      <td>N0</td>\n",
              "      <td>M0</td>\n",
              "      <td>I</td>\n",
              "      <td>Indeterminate</td>\n",
              "      <td>No</td>\n",
              "    </tr>\n",
              "    <tr>\n",
              "      <th>1</th>\n",
              "      <td>34</td>\n",
              "      <td>F</td>\n",
              "      <td>No</td>\n",
              "      <td>Yes</td>\n",
              "      <td>No</td>\n",
              "      <td>Euthyroid</td>\n",
              "      <td>Multinodular goiter</td>\n",
              "      <td>No</td>\n",
              "      <td>Micropapillary</td>\n",
              "      <td>Uni-Focal</td>\n",
              "      <td>Low</td>\n",
              "      <td>T1a</td>\n",
              "      <td>N0</td>\n",
              "      <td>M0</td>\n",
              "      <td>I</td>\n",
              "      <td>Excellent</td>\n",
              "      <td>No</td>\n",
              "    </tr>\n",
              "    <tr>\n",
              "      <th>2</th>\n",
              "      <td>30</td>\n",
              "      <td>F</td>\n",
              "      <td>No</td>\n",
              "      <td>No</td>\n",
              "      <td>No</td>\n",
              "      <td>Euthyroid</td>\n",
              "      <td>Single nodular goiter-right</td>\n",
              "      <td>No</td>\n",
              "      <td>Micropapillary</td>\n",
              "      <td>Uni-Focal</td>\n",
              "      <td>Low</td>\n",
              "      <td>T1a</td>\n",
              "      <td>N0</td>\n",
              "      <td>M0</td>\n",
              "      <td>I</td>\n",
              "      <td>Excellent</td>\n",
              "      <td>No</td>\n",
              "    </tr>\n",
              "    <tr>\n",
              "      <th>3</th>\n",
              "      <td>62</td>\n",
              "      <td>F</td>\n",
              "      <td>No</td>\n",
              "      <td>No</td>\n",
              "      <td>No</td>\n",
              "      <td>Euthyroid</td>\n",
              "      <td>Single nodular goiter-right</td>\n",
              "      <td>No</td>\n",
              "      <td>Micropapillary</td>\n",
              "      <td>Uni-Focal</td>\n",
              "      <td>Low</td>\n",
              "      <td>T1a</td>\n",
              "      <td>N0</td>\n",
              "      <td>M0</td>\n",
              "      <td>I</td>\n",
              "      <td>Excellent</td>\n",
              "      <td>No</td>\n",
              "    </tr>\n",
              "    <tr>\n",
              "      <th>4</th>\n",
              "      <td>62</td>\n",
              "      <td>F</td>\n",
              "      <td>No</td>\n",
              "      <td>No</td>\n",
              "      <td>No</td>\n",
              "      <td>Euthyroid</td>\n",
              "      <td>Multinodular goiter</td>\n",
              "      <td>No</td>\n",
              "      <td>Micropapillary</td>\n",
              "      <td>Multi-Focal</td>\n",
              "      <td>Low</td>\n",
              "      <td>T1a</td>\n",
              "      <td>N0</td>\n",
              "      <td>M0</td>\n",
              "      <td>I</td>\n",
              "      <td>Excellent</td>\n",
              "      <td>No</td>\n",
              "    </tr>\n",
              "  </tbody>\n",
              "</table>\n",
              "</div>\n",
              "    <div class=\"colab-df-buttons\">\n",
              "\n",
              "  <div class=\"colab-df-container\">\n",
              "    <button class=\"colab-df-convert\" onclick=\"convertToInteractive('df-19295272-26ca-47fe-a0e6-234ab5f73a09')\"\n",
              "            title=\"Convert this dataframe to an interactive table.\"\n",
              "            style=\"display:none;\">\n",
              "\n",
              "  <svg xmlns=\"http://www.w3.org/2000/svg\" height=\"24px\" viewBox=\"0 -960 960 960\">\n",
              "    <path d=\"M120-120v-720h720v720H120Zm60-500h600v-160H180v160Zm220 220h160v-160H400v160Zm0 220h160v-160H400v160ZM180-400h160v-160H180v160Zm440 0h160v-160H620v160ZM180-180h160v-160H180v160Zm440 0h160v-160H620v160Z\"/>\n",
              "  </svg>\n",
              "    </button>\n",
              "\n",
              "  <style>\n",
              "    .colab-df-container {\n",
              "      display:flex;\n",
              "      gap: 12px;\n",
              "    }\n",
              "\n",
              "    .colab-df-convert {\n",
              "      background-color: #E8F0FE;\n",
              "      border: none;\n",
              "      border-radius: 50%;\n",
              "      cursor: pointer;\n",
              "      display: none;\n",
              "      fill: #1967D2;\n",
              "      height: 32px;\n",
              "      padding: 0 0 0 0;\n",
              "      width: 32px;\n",
              "    }\n",
              "\n",
              "    .colab-df-convert:hover {\n",
              "      background-color: #E2EBFA;\n",
              "      box-shadow: 0px 1px 2px rgba(60, 64, 67, 0.3), 0px 1px 3px 1px rgba(60, 64, 67, 0.15);\n",
              "      fill: #174EA6;\n",
              "    }\n",
              "\n",
              "    .colab-df-buttons div {\n",
              "      margin-bottom: 4px;\n",
              "    }\n",
              "\n",
              "    [theme=dark] .colab-df-convert {\n",
              "      background-color: #3B4455;\n",
              "      fill: #D2E3FC;\n",
              "    }\n",
              "\n",
              "    [theme=dark] .colab-df-convert:hover {\n",
              "      background-color: #434B5C;\n",
              "      box-shadow: 0px 1px 3px 1px rgba(0, 0, 0, 0.15);\n",
              "      filter: drop-shadow(0px 1px 2px rgba(0, 0, 0, 0.3));\n",
              "      fill: #FFFFFF;\n",
              "    }\n",
              "  </style>\n",
              "\n",
              "    <script>\n",
              "      const buttonEl =\n",
              "        document.querySelector('#df-19295272-26ca-47fe-a0e6-234ab5f73a09 button.colab-df-convert');\n",
              "      buttonEl.style.display =\n",
              "        google.colab.kernel.accessAllowed ? 'block' : 'none';\n",
              "\n",
              "      async function convertToInteractive(key) {\n",
              "        const element = document.querySelector('#df-19295272-26ca-47fe-a0e6-234ab5f73a09');\n",
              "        const dataTable =\n",
              "          await google.colab.kernel.invokeFunction('convertToInteractive',\n",
              "                                                    [key], {});\n",
              "        if (!dataTable) return;\n",
              "\n",
              "        const docLinkHtml = 'Like what you see? Visit the ' +\n",
              "          '<a target=\"_blank\" href=https://colab.research.google.com/notebooks/data_table.ipynb>data table notebook</a>'\n",
              "          + ' to learn more about interactive tables.';\n",
              "        element.innerHTML = '';\n",
              "        dataTable['output_type'] = 'display_data';\n",
              "        await google.colab.output.renderOutput(dataTable, element);\n",
              "        const docLink = document.createElement('div');\n",
              "        docLink.innerHTML = docLinkHtml;\n",
              "        element.appendChild(docLink);\n",
              "      }\n",
              "    </script>\n",
              "  </div>\n",
              "\n",
              "\n",
              "<div id=\"df-400d2d1a-6910-4af6-9377-0cae38ba95ec\">\n",
              "  <button class=\"colab-df-quickchart\" onclick=\"quickchart('df-400d2d1a-6910-4af6-9377-0cae38ba95ec')\"\n",
              "            title=\"Suggest charts\"\n",
              "            style=\"display:none;\">\n",
              "\n",
              "<svg xmlns=\"http://www.w3.org/2000/svg\" height=\"24px\"viewBox=\"0 0 24 24\"\n",
              "     width=\"24px\">\n",
              "    <g>\n",
              "        <path d=\"M19 3H5c-1.1 0-2 .9-2 2v14c0 1.1.9 2 2 2h14c1.1 0 2-.9 2-2V5c0-1.1-.9-2-2-2zM9 17H7v-7h2v7zm4 0h-2V7h2v10zm4 0h-2v-4h2v4z\"/>\n",
              "    </g>\n",
              "</svg>\n",
              "  </button>\n",
              "\n",
              "<style>\n",
              "  .colab-df-quickchart {\n",
              "      --bg-color: #E8F0FE;\n",
              "      --fill-color: #1967D2;\n",
              "      --hover-bg-color: #E2EBFA;\n",
              "      --hover-fill-color: #174EA6;\n",
              "      --disabled-fill-color: #AAA;\n",
              "      --disabled-bg-color: #DDD;\n",
              "  }\n",
              "\n",
              "  [theme=dark] .colab-df-quickchart {\n",
              "      --bg-color: #3B4455;\n",
              "      --fill-color: #D2E3FC;\n",
              "      --hover-bg-color: #434B5C;\n",
              "      --hover-fill-color: #FFFFFF;\n",
              "      --disabled-bg-color: #3B4455;\n",
              "      --disabled-fill-color: #666;\n",
              "  }\n",
              "\n",
              "  .colab-df-quickchart {\n",
              "    background-color: var(--bg-color);\n",
              "    border: none;\n",
              "    border-radius: 50%;\n",
              "    cursor: pointer;\n",
              "    display: none;\n",
              "    fill: var(--fill-color);\n",
              "    height: 32px;\n",
              "    padding: 0;\n",
              "    width: 32px;\n",
              "  }\n",
              "\n",
              "  .colab-df-quickchart:hover {\n",
              "    background-color: var(--hover-bg-color);\n",
              "    box-shadow: 0 1px 2px rgba(60, 64, 67, 0.3), 0 1px 3px 1px rgba(60, 64, 67, 0.15);\n",
              "    fill: var(--button-hover-fill-color);\n",
              "  }\n",
              "\n",
              "  .colab-df-quickchart-complete:disabled,\n",
              "  .colab-df-quickchart-complete:disabled:hover {\n",
              "    background-color: var(--disabled-bg-color);\n",
              "    fill: var(--disabled-fill-color);\n",
              "    box-shadow: none;\n",
              "  }\n",
              "\n",
              "  .colab-df-spinner {\n",
              "    border: 2px solid var(--fill-color);\n",
              "    border-color: transparent;\n",
              "    border-bottom-color: var(--fill-color);\n",
              "    animation:\n",
              "      spin 1s steps(1) infinite;\n",
              "  }\n",
              "\n",
              "  @keyframes spin {\n",
              "    0% {\n",
              "      border-color: transparent;\n",
              "      border-bottom-color: var(--fill-color);\n",
              "      border-left-color: var(--fill-color);\n",
              "    }\n",
              "    20% {\n",
              "      border-color: transparent;\n",
              "      border-left-color: var(--fill-color);\n",
              "      border-top-color: var(--fill-color);\n",
              "    }\n",
              "    30% {\n",
              "      border-color: transparent;\n",
              "      border-left-color: var(--fill-color);\n",
              "      border-top-color: var(--fill-color);\n",
              "      border-right-color: var(--fill-color);\n",
              "    }\n",
              "    40% {\n",
              "      border-color: transparent;\n",
              "      border-right-color: var(--fill-color);\n",
              "      border-top-color: var(--fill-color);\n",
              "    }\n",
              "    60% {\n",
              "      border-color: transparent;\n",
              "      border-right-color: var(--fill-color);\n",
              "    }\n",
              "    80% {\n",
              "      border-color: transparent;\n",
              "      border-right-color: var(--fill-color);\n",
              "      border-bottom-color: var(--fill-color);\n",
              "    }\n",
              "    90% {\n",
              "      border-color: transparent;\n",
              "      border-bottom-color: var(--fill-color);\n",
              "    }\n",
              "  }\n",
              "</style>\n",
              "\n",
              "  <script>\n",
              "    async function quickchart(key) {\n",
              "      const quickchartButtonEl =\n",
              "        document.querySelector('#' + key + ' button');\n",
              "      quickchartButtonEl.disabled = true;  // To prevent multiple clicks.\n",
              "      quickchartButtonEl.classList.add('colab-df-spinner');\n",
              "      try {\n",
              "        const charts = await google.colab.kernel.invokeFunction(\n",
              "            'suggestCharts', [key], {});\n",
              "      } catch (error) {\n",
              "        console.error('Error during call to suggestCharts:', error);\n",
              "      }\n",
              "      quickchartButtonEl.classList.remove('colab-df-spinner');\n",
              "      quickchartButtonEl.classList.add('colab-df-quickchart-complete');\n",
              "    }\n",
              "    (() => {\n",
              "      let quickchartButtonEl =\n",
              "        document.querySelector('#df-400d2d1a-6910-4af6-9377-0cae38ba95ec button');\n",
              "      quickchartButtonEl.style.display =\n",
              "        google.colab.kernel.accessAllowed ? 'block' : 'none';\n",
              "    })();\n",
              "  </script>\n",
              "</div>\n",
              "\n",
              "    </div>\n",
              "  </div>\n"
            ],
            "application/vnd.google.colaboratory.intrinsic+json": {
              "type": "dataframe",
              "variable_name": "df",
              "summary": "{\n  \"name\": \"df\",\n  \"rows\": 383,\n  \"fields\": [\n    {\n      \"column\": \"Age\",\n      \"properties\": {\n        \"dtype\": \"number\",\n        \"std\": 15,\n        \"min\": 15,\n        \"max\": 82,\n        \"num_unique_values\": 65,\n        \"samples\": [\n          48,\n          15,\n          27\n        ],\n        \"semantic_type\": \"\",\n        \"description\": \"\"\n      }\n    },\n    {\n      \"column\": \"Gender\",\n      \"properties\": {\n        \"dtype\": \"category\",\n        \"num_unique_values\": 2,\n        \"samples\": [\n          \"M\",\n          \"F\"\n        ],\n        \"semantic_type\": \"\",\n        \"description\": \"\"\n      }\n    },\n    {\n      \"column\": \"Smoking\",\n      \"properties\": {\n        \"dtype\": \"category\",\n        \"num_unique_values\": 2,\n        \"samples\": [\n          \"Yes\",\n          \"No\"\n        ],\n        \"semantic_type\": \"\",\n        \"description\": \"\"\n      }\n    },\n    {\n      \"column\": \"Hx Smoking\",\n      \"properties\": {\n        \"dtype\": \"category\",\n        \"num_unique_values\": 2,\n        \"samples\": [\n          \"Yes\",\n          \"No\"\n        ],\n        \"semantic_type\": \"\",\n        \"description\": \"\"\n      }\n    },\n    {\n      \"column\": \"Hx Radiothreapy\",\n      \"properties\": {\n        \"dtype\": \"category\",\n        \"num_unique_values\": 2,\n        \"samples\": [\n          \"Yes\",\n          \"No\"\n        ],\n        \"semantic_type\": \"\",\n        \"description\": \"\"\n      }\n    },\n    {\n      \"column\": \"Thyroid Function\",\n      \"properties\": {\n        \"dtype\": \"category\",\n        \"num_unique_values\": 5,\n        \"samples\": [\n          \"Clinical Hyperthyroidism\",\n          \"Subclinical Hypothyroidism\"\n        ],\n        \"semantic_type\": \"\",\n        \"description\": \"\"\n      }\n    },\n    {\n      \"column\": \"Physical Examination\",\n      \"properties\": {\n        \"dtype\": \"category\",\n        \"num_unique_values\": 5,\n        \"samples\": [\n          \"Multinodular goiter\",\n          \"Diffuse goiter\"\n        ],\n        \"semantic_type\": \"\",\n        \"description\": \"\"\n      }\n    },\n    {\n      \"column\": \"Adenopathy\",\n      \"properties\": {\n        \"dtype\": \"category\",\n        \"num_unique_values\": 6,\n        \"samples\": [\n          \"No\",\n          \"Right\"\n        ],\n        \"semantic_type\": \"\",\n        \"description\": \"\"\n      }\n    },\n    {\n      \"column\": \"Pathology\",\n      \"properties\": {\n        \"dtype\": \"category\",\n        \"num_unique_values\": 4,\n        \"samples\": [\n          \"Papillary\",\n          \"Hurthel cell\"\n        ],\n        \"semantic_type\": \"\",\n        \"description\": \"\"\n      }\n    },\n    {\n      \"column\": \"Focality\",\n      \"properties\": {\n        \"dtype\": \"category\",\n        \"num_unique_values\": 2,\n        \"samples\": [\n          \"Multi-Focal\",\n          \"Uni-Focal\"\n        ],\n        \"semantic_type\": \"\",\n        \"description\": \"\"\n      }\n    },\n    {\n      \"column\": \"Risk\",\n      \"properties\": {\n        \"dtype\": \"category\",\n        \"num_unique_values\": 3,\n        \"samples\": [\n          \"Low\",\n          \"Intermediate\"\n        ],\n        \"semantic_type\": \"\",\n        \"description\": \"\"\n      }\n    },\n    {\n      \"column\": \"T\",\n      \"properties\": {\n        \"dtype\": \"category\",\n        \"num_unique_values\": 7,\n        \"samples\": [\n          \"T1a\",\n          \"T1b\"\n        ],\n        \"semantic_type\": \"\",\n        \"description\": \"\"\n      }\n    },\n    {\n      \"column\": \"N\",\n      \"properties\": {\n        \"dtype\": \"category\",\n        \"num_unique_values\": 3,\n        \"samples\": [\n          \"N0\",\n          \"N1b\"\n        ],\n        \"semantic_type\": \"\",\n        \"description\": \"\"\n      }\n    },\n    {\n      \"column\": \"M\",\n      \"properties\": {\n        \"dtype\": \"category\",\n        \"num_unique_values\": 2,\n        \"samples\": [\n          \"M1\",\n          \"M0\"\n        ],\n        \"semantic_type\": \"\",\n        \"description\": \"\"\n      }\n    },\n    {\n      \"column\": \"Stage\",\n      \"properties\": {\n        \"dtype\": \"category\",\n        \"num_unique_values\": 5,\n        \"samples\": [\n          \"II\",\n          \"IVA\"\n        ],\n        \"semantic_type\": \"\",\n        \"description\": \"\"\n      }\n    },\n    {\n      \"column\": \"Response\",\n      \"properties\": {\n        \"dtype\": \"category\",\n        \"num_unique_values\": 4,\n        \"samples\": [\n          \"Excellent\",\n          \"Biochemical Incomplete\"\n        ],\n        \"semantic_type\": \"\",\n        \"description\": \"\"\n      }\n    },\n    {\n      \"column\": \"Recurred\",\n      \"properties\": {\n        \"dtype\": \"category\",\n        \"num_unique_values\": 2,\n        \"samples\": [\n          \"Yes\",\n          \"No\"\n        ],\n        \"semantic_type\": \"\",\n        \"description\": \"\"\n      }\n    }\n  ]\n}"
            }
          },
          "metadata": {},
          "execution_count": 5
        }
      ],
      "source": [
        "df.head()"
      ]
    },
    {
      "cell_type": "code",
      "execution_count": 6,
      "id": "b4d9c24a",
      "metadata": {
        "_kg_hide-input": true,
        "execution": {
          "iopub.execute_input": "2024-05-24T20:52:13.191282Z",
          "iopub.status.busy": "2024-05-24T20:52:13.190067Z",
          "iopub.status.idle": "2024-05-24T20:52:13.207140Z",
          "shell.execute_reply": "2024-05-24T20:52:13.206269Z"
        },
        "papermill": {
          "duration": 0.035776,
          "end_time": "2024-05-24T20:52:13.209152",
          "exception": false,
          "start_time": "2024-05-24T20:52:13.173376",
          "status": "completed"
        },
        "tags": [],
        "colab": {
          "base_uri": "https://localhost:8080/",
          "height": 347
        },
        "id": "b4d9c24a",
        "outputId": "579b4043-45b2-4e88-cb58-ee2907cffe59"
      },
      "outputs": [
        {
          "output_type": "execute_result",
          "data": {
            "text/plain": [
              "     Age Gender Smoking Hx Smoking Hx Radiothreapy          Thyroid Function  \\\n",
              "378   72      M     Yes        Yes             Yes                 Euthyroid   \n",
              "379   81      M     Yes         No             Yes                 Euthyroid   \n",
              "380   72      M     Yes        Yes              No                 Euthyroid   \n",
              "381   61      M     Yes        Yes             Yes  Clinical Hyperthyroidism   \n",
              "382   67      M     Yes         No              No                 Euthyroid   \n",
              "\n",
              "            Physical Examination Adenopathy     Pathology     Focality  Risk  \\\n",
              "378  Single nodular goiter-right      Right     Papillary    Uni-Focal  High   \n",
              "379          Multinodular goiter  Extensive     Papillary  Multi-Focal  High   \n",
              "380          Multinodular goiter  Bilateral     Papillary  Multi-Focal  High   \n",
              "381          Multinodular goiter  Extensive  Hurthel cell  Multi-Focal  High   \n",
              "382          Multinodular goiter  Bilateral     Papillary  Multi-Focal  High   \n",
              "\n",
              "       T    N   M Stage                Response Recurred  \n",
              "378  T4b  N1b  M1   IVB  Biochemical Incomplete      Yes  \n",
              "379  T4b  N1b  M1   IVB   Structural Incomplete      Yes  \n",
              "380  T4b  N1b  M1   IVB   Structural Incomplete      Yes  \n",
              "381  T4b  N1b  M0   IVA   Structural Incomplete      Yes  \n",
              "382  T4b  N1b  M0   IVA   Structural Incomplete      Yes  "
            ],
            "text/html": [
              "\n",
              "  <div id=\"df-56d0e3c8-e785-47a2-aab9-4db6336e4b43\" class=\"colab-df-container\">\n",
              "    <div>\n",
              "<style scoped>\n",
              "    .dataframe tbody tr th:only-of-type {\n",
              "        vertical-align: middle;\n",
              "    }\n",
              "\n",
              "    .dataframe tbody tr th {\n",
              "        vertical-align: top;\n",
              "    }\n",
              "\n",
              "    .dataframe thead th {\n",
              "        text-align: right;\n",
              "    }\n",
              "</style>\n",
              "<table border=\"1\" class=\"dataframe\">\n",
              "  <thead>\n",
              "    <tr style=\"text-align: right;\">\n",
              "      <th></th>\n",
              "      <th>Age</th>\n",
              "      <th>Gender</th>\n",
              "      <th>Smoking</th>\n",
              "      <th>Hx Smoking</th>\n",
              "      <th>Hx Radiothreapy</th>\n",
              "      <th>Thyroid Function</th>\n",
              "      <th>Physical Examination</th>\n",
              "      <th>Adenopathy</th>\n",
              "      <th>Pathology</th>\n",
              "      <th>Focality</th>\n",
              "      <th>Risk</th>\n",
              "      <th>T</th>\n",
              "      <th>N</th>\n",
              "      <th>M</th>\n",
              "      <th>Stage</th>\n",
              "      <th>Response</th>\n",
              "      <th>Recurred</th>\n",
              "    </tr>\n",
              "  </thead>\n",
              "  <tbody>\n",
              "    <tr>\n",
              "      <th>378</th>\n",
              "      <td>72</td>\n",
              "      <td>M</td>\n",
              "      <td>Yes</td>\n",
              "      <td>Yes</td>\n",
              "      <td>Yes</td>\n",
              "      <td>Euthyroid</td>\n",
              "      <td>Single nodular goiter-right</td>\n",
              "      <td>Right</td>\n",
              "      <td>Papillary</td>\n",
              "      <td>Uni-Focal</td>\n",
              "      <td>High</td>\n",
              "      <td>T4b</td>\n",
              "      <td>N1b</td>\n",
              "      <td>M1</td>\n",
              "      <td>IVB</td>\n",
              "      <td>Biochemical Incomplete</td>\n",
              "      <td>Yes</td>\n",
              "    </tr>\n",
              "    <tr>\n",
              "      <th>379</th>\n",
              "      <td>81</td>\n",
              "      <td>M</td>\n",
              "      <td>Yes</td>\n",
              "      <td>No</td>\n",
              "      <td>Yes</td>\n",
              "      <td>Euthyroid</td>\n",
              "      <td>Multinodular goiter</td>\n",
              "      <td>Extensive</td>\n",
              "      <td>Papillary</td>\n",
              "      <td>Multi-Focal</td>\n",
              "      <td>High</td>\n",
              "      <td>T4b</td>\n",
              "      <td>N1b</td>\n",
              "      <td>M1</td>\n",
              "      <td>IVB</td>\n",
              "      <td>Structural Incomplete</td>\n",
              "      <td>Yes</td>\n",
              "    </tr>\n",
              "    <tr>\n",
              "      <th>380</th>\n",
              "      <td>72</td>\n",
              "      <td>M</td>\n",
              "      <td>Yes</td>\n",
              "      <td>Yes</td>\n",
              "      <td>No</td>\n",
              "      <td>Euthyroid</td>\n",
              "      <td>Multinodular goiter</td>\n",
              "      <td>Bilateral</td>\n",
              "      <td>Papillary</td>\n",
              "      <td>Multi-Focal</td>\n",
              "      <td>High</td>\n",
              "      <td>T4b</td>\n",
              "      <td>N1b</td>\n",
              "      <td>M1</td>\n",
              "      <td>IVB</td>\n",
              "      <td>Structural Incomplete</td>\n",
              "      <td>Yes</td>\n",
              "    </tr>\n",
              "    <tr>\n",
              "      <th>381</th>\n",
              "      <td>61</td>\n",
              "      <td>M</td>\n",
              "      <td>Yes</td>\n",
              "      <td>Yes</td>\n",
              "      <td>Yes</td>\n",
              "      <td>Clinical Hyperthyroidism</td>\n",
              "      <td>Multinodular goiter</td>\n",
              "      <td>Extensive</td>\n",
              "      <td>Hurthel cell</td>\n",
              "      <td>Multi-Focal</td>\n",
              "      <td>High</td>\n",
              "      <td>T4b</td>\n",
              "      <td>N1b</td>\n",
              "      <td>M0</td>\n",
              "      <td>IVA</td>\n",
              "      <td>Structural Incomplete</td>\n",
              "      <td>Yes</td>\n",
              "    </tr>\n",
              "    <tr>\n",
              "      <th>382</th>\n",
              "      <td>67</td>\n",
              "      <td>M</td>\n",
              "      <td>Yes</td>\n",
              "      <td>No</td>\n",
              "      <td>No</td>\n",
              "      <td>Euthyroid</td>\n",
              "      <td>Multinodular goiter</td>\n",
              "      <td>Bilateral</td>\n",
              "      <td>Papillary</td>\n",
              "      <td>Multi-Focal</td>\n",
              "      <td>High</td>\n",
              "      <td>T4b</td>\n",
              "      <td>N1b</td>\n",
              "      <td>M0</td>\n",
              "      <td>IVA</td>\n",
              "      <td>Structural Incomplete</td>\n",
              "      <td>Yes</td>\n",
              "    </tr>\n",
              "  </tbody>\n",
              "</table>\n",
              "</div>\n",
              "    <div class=\"colab-df-buttons\">\n",
              "\n",
              "  <div class=\"colab-df-container\">\n",
              "    <button class=\"colab-df-convert\" onclick=\"convertToInteractive('df-56d0e3c8-e785-47a2-aab9-4db6336e4b43')\"\n",
              "            title=\"Convert this dataframe to an interactive table.\"\n",
              "            style=\"display:none;\">\n",
              "\n",
              "  <svg xmlns=\"http://www.w3.org/2000/svg\" height=\"24px\" viewBox=\"0 -960 960 960\">\n",
              "    <path d=\"M120-120v-720h720v720H120Zm60-500h600v-160H180v160Zm220 220h160v-160H400v160Zm0 220h160v-160H400v160ZM180-400h160v-160H180v160Zm440 0h160v-160H620v160ZM180-180h160v-160H180v160Zm440 0h160v-160H620v160Z\"/>\n",
              "  </svg>\n",
              "    </button>\n",
              "\n",
              "  <style>\n",
              "    .colab-df-container {\n",
              "      display:flex;\n",
              "      gap: 12px;\n",
              "    }\n",
              "\n",
              "    .colab-df-convert {\n",
              "      background-color: #E8F0FE;\n",
              "      border: none;\n",
              "      border-radius: 50%;\n",
              "      cursor: pointer;\n",
              "      display: none;\n",
              "      fill: #1967D2;\n",
              "      height: 32px;\n",
              "      padding: 0 0 0 0;\n",
              "      width: 32px;\n",
              "    }\n",
              "\n",
              "    .colab-df-convert:hover {\n",
              "      background-color: #E2EBFA;\n",
              "      box-shadow: 0px 1px 2px rgba(60, 64, 67, 0.3), 0px 1px 3px 1px rgba(60, 64, 67, 0.15);\n",
              "      fill: #174EA6;\n",
              "    }\n",
              "\n",
              "    .colab-df-buttons div {\n",
              "      margin-bottom: 4px;\n",
              "    }\n",
              "\n",
              "    [theme=dark] .colab-df-convert {\n",
              "      background-color: #3B4455;\n",
              "      fill: #D2E3FC;\n",
              "    }\n",
              "\n",
              "    [theme=dark] .colab-df-convert:hover {\n",
              "      background-color: #434B5C;\n",
              "      box-shadow: 0px 1px 3px 1px rgba(0, 0, 0, 0.15);\n",
              "      filter: drop-shadow(0px 1px 2px rgba(0, 0, 0, 0.3));\n",
              "      fill: #FFFFFF;\n",
              "    }\n",
              "  </style>\n",
              "\n",
              "    <script>\n",
              "      const buttonEl =\n",
              "        document.querySelector('#df-56d0e3c8-e785-47a2-aab9-4db6336e4b43 button.colab-df-convert');\n",
              "      buttonEl.style.display =\n",
              "        google.colab.kernel.accessAllowed ? 'block' : 'none';\n",
              "\n",
              "      async function convertToInteractive(key) {\n",
              "        const element = document.querySelector('#df-56d0e3c8-e785-47a2-aab9-4db6336e4b43');\n",
              "        const dataTable =\n",
              "          await google.colab.kernel.invokeFunction('convertToInteractive',\n",
              "                                                    [key], {});\n",
              "        if (!dataTable) return;\n",
              "\n",
              "        const docLinkHtml = 'Like what you see? Visit the ' +\n",
              "          '<a target=\"_blank\" href=https://colab.research.google.com/notebooks/data_table.ipynb>data table notebook</a>'\n",
              "          + ' to learn more about interactive tables.';\n",
              "        element.innerHTML = '';\n",
              "        dataTable['output_type'] = 'display_data';\n",
              "        await google.colab.output.renderOutput(dataTable, element);\n",
              "        const docLink = document.createElement('div');\n",
              "        docLink.innerHTML = docLinkHtml;\n",
              "        element.appendChild(docLink);\n",
              "      }\n",
              "    </script>\n",
              "  </div>\n",
              "\n",
              "\n",
              "<div id=\"df-c894e998-8665-47be-b907-4912255bef1d\">\n",
              "  <button class=\"colab-df-quickchart\" onclick=\"quickchart('df-c894e998-8665-47be-b907-4912255bef1d')\"\n",
              "            title=\"Suggest charts\"\n",
              "            style=\"display:none;\">\n",
              "\n",
              "<svg xmlns=\"http://www.w3.org/2000/svg\" height=\"24px\"viewBox=\"0 0 24 24\"\n",
              "     width=\"24px\">\n",
              "    <g>\n",
              "        <path d=\"M19 3H5c-1.1 0-2 .9-2 2v14c0 1.1.9 2 2 2h14c1.1 0 2-.9 2-2V5c0-1.1-.9-2-2-2zM9 17H7v-7h2v7zm4 0h-2V7h2v10zm4 0h-2v-4h2v4z\"/>\n",
              "    </g>\n",
              "</svg>\n",
              "  </button>\n",
              "\n",
              "<style>\n",
              "  .colab-df-quickchart {\n",
              "      --bg-color: #E8F0FE;\n",
              "      --fill-color: #1967D2;\n",
              "      --hover-bg-color: #E2EBFA;\n",
              "      --hover-fill-color: #174EA6;\n",
              "      --disabled-fill-color: #AAA;\n",
              "      --disabled-bg-color: #DDD;\n",
              "  }\n",
              "\n",
              "  [theme=dark] .colab-df-quickchart {\n",
              "      --bg-color: #3B4455;\n",
              "      --fill-color: #D2E3FC;\n",
              "      --hover-bg-color: #434B5C;\n",
              "      --hover-fill-color: #FFFFFF;\n",
              "      --disabled-bg-color: #3B4455;\n",
              "      --disabled-fill-color: #666;\n",
              "  }\n",
              "\n",
              "  .colab-df-quickchart {\n",
              "    background-color: var(--bg-color);\n",
              "    border: none;\n",
              "    border-radius: 50%;\n",
              "    cursor: pointer;\n",
              "    display: none;\n",
              "    fill: var(--fill-color);\n",
              "    height: 32px;\n",
              "    padding: 0;\n",
              "    width: 32px;\n",
              "  }\n",
              "\n",
              "  .colab-df-quickchart:hover {\n",
              "    background-color: var(--hover-bg-color);\n",
              "    box-shadow: 0 1px 2px rgba(60, 64, 67, 0.3), 0 1px 3px 1px rgba(60, 64, 67, 0.15);\n",
              "    fill: var(--button-hover-fill-color);\n",
              "  }\n",
              "\n",
              "  .colab-df-quickchart-complete:disabled,\n",
              "  .colab-df-quickchart-complete:disabled:hover {\n",
              "    background-color: var(--disabled-bg-color);\n",
              "    fill: var(--disabled-fill-color);\n",
              "    box-shadow: none;\n",
              "  }\n",
              "\n",
              "  .colab-df-spinner {\n",
              "    border: 2px solid var(--fill-color);\n",
              "    border-color: transparent;\n",
              "    border-bottom-color: var(--fill-color);\n",
              "    animation:\n",
              "      spin 1s steps(1) infinite;\n",
              "  }\n",
              "\n",
              "  @keyframes spin {\n",
              "    0% {\n",
              "      border-color: transparent;\n",
              "      border-bottom-color: var(--fill-color);\n",
              "      border-left-color: var(--fill-color);\n",
              "    }\n",
              "    20% {\n",
              "      border-color: transparent;\n",
              "      border-left-color: var(--fill-color);\n",
              "      border-top-color: var(--fill-color);\n",
              "    }\n",
              "    30% {\n",
              "      border-color: transparent;\n",
              "      border-left-color: var(--fill-color);\n",
              "      border-top-color: var(--fill-color);\n",
              "      border-right-color: var(--fill-color);\n",
              "    }\n",
              "    40% {\n",
              "      border-color: transparent;\n",
              "      border-right-color: var(--fill-color);\n",
              "      border-top-color: var(--fill-color);\n",
              "    }\n",
              "    60% {\n",
              "      border-color: transparent;\n",
              "      border-right-color: var(--fill-color);\n",
              "    }\n",
              "    80% {\n",
              "      border-color: transparent;\n",
              "      border-right-color: var(--fill-color);\n",
              "      border-bottom-color: var(--fill-color);\n",
              "    }\n",
              "    90% {\n",
              "      border-color: transparent;\n",
              "      border-bottom-color: var(--fill-color);\n",
              "    }\n",
              "  }\n",
              "</style>\n",
              "\n",
              "  <script>\n",
              "    async function quickchart(key) {\n",
              "      const quickchartButtonEl =\n",
              "        document.querySelector('#' + key + ' button');\n",
              "      quickchartButtonEl.disabled = true;  // To prevent multiple clicks.\n",
              "      quickchartButtonEl.classList.add('colab-df-spinner');\n",
              "      try {\n",
              "        const charts = await google.colab.kernel.invokeFunction(\n",
              "            'suggestCharts', [key], {});\n",
              "      } catch (error) {\n",
              "        console.error('Error during call to suggestCharts:', error);\n",
              "      }\n",
              "      quickchartButtonEl.classList.remove('colab-df-spinner');\n",
              "      quickchartButtonEl.classList.add('colab-df-quickchart-complete');\n",
              "    }\n",
              "    (() => {\n",
              "      let quickchartButtonEl =\n",
              "        document.querySelector('#df-c894e998-8665-47be-b907-4912255bef1d button');\n",
              "      quickchartButtonEl.style.display =\n",
              "        google.colab.kernel.accessAllowed ? 'block' : 'none';\n",
              "    })();\n",
              "  </script>\n",
              "</div>\n",
              "\n",
              "    </div>\n",
              "  </div>\n"
            ],
            "application/vnd.google.colaboratory.intrinsic+json": {
              "type": "dataframe",
              "summary": "{\n  \"name\": \"df\",\n  \"rows\": 5,\n  \"fields\": [\n    {\n      \"column\": \"Age\",\n      \"properties\": {\n        \"dtype\": \"number\",\n        \"std\": 7,\n        \"min\": 61,\n        \"max\": 81,\n        \"num_unique_values\": 4,\n        \"samples\": [\n          81,\n          67,\n          72\n        ],\n        \"semantic_type\": \"\",\n        \"description\": \"\"\n      }\n    },\n    {\n      \"column\": \"Gender\",\n      \"properties\": {\n        \"dtype\": \"category\",\n        \"num_unique_values\": 1,\n        \"samples\": [\n          \"M\"\n        ],\n        \"semantic_type\": \"\",\n        \"description\": \"\"\n      }\n    },\n    {\n      \"column\": \"Smoking\",\n      \"properties\": {\n        \"dtype\": \"category\",\n        \"num_unique_values\": 1,\n        \"samples\": [\n          \"Yes\"\n        ],\n        \"semantic_type\": \"\",\n        \"description\": \"\"\n      }\n    },\n    {\n      \"column\": \"Hx Smoking\",\n      \"properties\": {\n        \"dtype\": \"category\",\n        \"num_unique_values\": 2,\n        \"samples\": [\n          \"No\"\n        ],\n        \"semantic_type\": \"\",\n        \"description\": \"\"\n      }\n    },\n    {\n      \"column\": \"Hx Radiothreapy\",\n      \"properties\": {\n        \"dtype\": \"category\",\n        \"num_unique_values\": 2,\n        \"samples\": [\n          \"No\"\n        ],\n        \"semantic_type\": \"\",\n        \"description\": \"\"\n      }\n    },\n    {\n      \"column\": \"Thyroid Function\",\n      \"properties\": {\n        \"dtype\": \"category\",\n        \"num_unique_values\": 2,\n        \"samples\": [\n          \"Clinical Hyperthyroidism\"\n        ],\n        \"semantic_type\": \"\",\n        \"description\": \"\"\n      }\n    },\n    {\n      \"column\": \"Physical Examination\",\n      \"properties\": {\n        \"dtype\": \"category\",\n        \"num_unique_values\": 2,\n        \"samples\": [\n          \"Multinodular goiter\"\n        ],\n        \"semantic_type\": \"\",\n        \"description\": \"\"\n      }\n    },\n    {\n      \"column\": \"Adenopathy\",\n      \"properties\": {\n        \"dtype\": \"string\",\n        \"num_unique_values\": 3,\n        \"samples\": [\n          \"Right\"\n        ],\n        \"semantic_type\": \"\",\n        \"description\": \"\"\n      }\n    },\n    {\n      \"column\": \"Pathology\",\n      \"properties\": {\n        \"dtype\": \"category\",\n        \"num_unique_values\": 2,\n        \"samples\": [\n          \"Hurthel cell\"\n        ],\n        \"semantic_type\": \"\",\n        \"description\": \"\"\n      }\n    },\n    {\n      \"column\": \"Focality\",\n      \"properties\": {\n        \"dtype\": \"category\",\n        \"num_unique_values\": 2,\n        \"samples\": [\n          \"Multi-Focal\"\n        ],\n        \"semantic_type\": \"\",\n        \"description\": \"\"\n      }\n    },\n    {\n      \"column\": \"Risk\",\n      \"properties\": {\n        \"dtype\": \"category\",\n        \"num_unique_values\": 1,\n        \"samples\": [\n          \"High\"\n        ],\n        \"semantic_type\": \"\",\n        \"description\": \"\"\n      }\n    },\n    {\n      \"column\": \"T\",\n      \"properties\": {\n        \"dtype\": \"category\",\n        \"num_unique_values\": 1,\n        \"samples\": [\n          \"T4b\"\n        ],\n        \"semantic_type\": \"\",\n        \"description\": \"\"\n      }\n    },\n    {\n      \"column\": \"N\",\n      \"properties\": {\n        \"dtype\": \"category\",\n        \"num_unique_values\": 1,\n        \"samples\": [\n          \"N1b\"\n        ],\n        \"semantic_type\": \"\",\n        \"description\": \"\"\n      }\n    },\n    {\n      \"column\": \"M\",\n      \"properties\": {\n        \"dtype\": \"category\",\n        \"num_unique_values\": 2,\n        \"samples\": [\n          \"M0\"\n        ],\n        \"semantic_type\": \"\",\n        \"description\": \"\"\n      }\n    },\n    {\n      \"column\": \"Stage\",\n      \"properties\": {\n        \"dtype\": \"category\",\n        \"num_unique_values\": 2,\n        \"samples\": [\n          \"IVA\"\n        ],\n        \"semantic_type\": \"\",\n        \"description\": \"\"\n      }\n    },\n    {\n      \"column\": \"Response\",\n      \"properties\": {\n        \"dtype\": \"category\",\n        \"num_unique_values\": 2,\n        \"samples\": [\n          \"Structural Incomplete\"\n        ],\n        \"semantic_type\": \"\",\n        \"description\": \"\"\n      }\n    },\n    {\n      \"column\": \"Recurred\",\n      \"properties\": {\n        \"dtype\": \"category\",\n        \"num_unique_values\": 1,\n        \"samples\": [\n          \"Yes\"\n        ],\n        \"semantic_type\": \"\",\n        \"description\": \"\"\n      }\n    }\n  ]\n}"
            }
          },
          "metadata": {},
          "execution_count": 6
        }
      ],
      "source": [
        "df.tail()"
      ]
    },
    {
      "cell_type": "markdown",
      "id": "f45e44a8",
      "metadata": {
        "execution": {
          "iopub.execute_input": "2024-05-22T19:21:04.891614Z",
          "iopub.status.busy": "2024-05-22T19:21:04.891127Z",
          "iopub.status.idle": "2024-05-22T19:21:04.899633Z",
          "shell.execute_reply": "2024-05-22T19:21:04.898323Z",
          "shell.execute_reply.started": "2024-05-22T19:21:04.891578Z"
        },
        "papermill": {
          "duration": 0.015064,
          "end_time": "2024-05-24T20:52:13.239572",
          "exception": false,
          "start_time": "2024-05-24T20:52:13.224508",
          "status": "completed"
        },
        "tags": [],
        "id": "f45e44a8"
      },
      "source": [
        "I get a pretty good idea of the dataset from examining these 10 rows. Aside from age, all of the features that predict the target variable are categorical as we confirmed earlier, and the target variable is a yes/no categorical variable."
      ]
    },
    {
      "cell_type": "markdown",
      "id": "4b0a155f",
      "metadata": {
        "papermill": {
          "duration": 0.015292,
          "end_time": "2024-05-24T20:52:13.270123",
          "exception": false,
          "start_time": "2024-05-24T20:52:13.254831",
          "status": "completed"
        },
        "tags": [],
        "id": "4b0a155f"
      },
      "source": [
        "I'll separate the dataset into numerical (age) and categorical features which I may reference later during feature engineering."
      ]
    },
    {
      "cell_type": "markdown",
      "id": "147c6d4b",
      "metadata": {
        "papermill": {
          "duration": 0.015175,
          "end_time": "2024-05-24T20:52:13.301606",
          "exception": false,
          "start_time": "2024-05-24T20:52:13.286431",
          "status": "completed"
        },
        "tags": [],
        "id": "147c6d4b"
      },
      "source": [
        "## 1.2 Categorical Features Preprocessing"
      ]
    },
    {
      "cell_type": "code",
      "execution_count": 7,
      "id": "890b1c54",
      "metadata": {
        "_kg_hide-input": true,
        "execution": {
          "iopub.execute_input": "2024-05-24T20:52:13.334177Z",
          "iopub.status.busy": "2024-05-24T20:52:13.333766Z",
          "iopub.status.idle": "2024-05-24T20:52:13.342243Z",
          "shell.execute_reply": "2024-05-24T20:52:13.341035Z"
        },
        "papermill": {
          "duration": 0.027694,
          "end_time": "2024-05-24T20:52:13.344635",
          "exception": false,
          "start_time": "2024-05-24T20:52:13.316941",
          "status": "completed"
        },
        "tags": [],
        "id": "890b1c54"
      },
      "outputs": [],
      "source": [
        "# find categorical and numerical variables\n",
        "columns = list(df.columns)\n",
        "\n",
        "categoric_columns = []\n",
        "numeric_columns = []\n",
        "\n",
        "for i in columns:\n",
        "    if len(df[i].unique()) > 8:\n",
        "        numeric_columns.append(i)\n",
        "    else:\n",
        "        categoric_columns.append(i)\n",
        "\n",
        "categoric_columns = categoric_columns[:-1] # Excluding target:'Recurred'"
      ]
    },
    {
      "cell_type": "code",
      "execution_count": 8,
      "id": "74fcfd74",
      "metadata": {
        "_kg_hide-input": true,
        "execution": {
          "iopub.execute_input": "2024-05-24T20:52:13.379746Z",
          "iopub.status.busy": "2024-05-24T20:52:13.379312Z",
          "iopub.status.idle": "2024-05-24T20:52:13.384898Z",
          "shell.execute_reply": "2024-05-24T20:52:13.383838Z"
        },
        "papermill": {
          "duration": 0.027025,
          "end_time": "2024-05-24T20:52:13.387187",
          "exception": false,
          "start_time": "2024-05-24T20:52:13.360162",
          "status": "completed"
        },
        "tags": [],
        "colab": {
          "base_uri": "https://localhost:8080/"
        },
        "id": "74fcfd74",
        "outputId": "8140793d-c9bb-4701-a511-0ed3f613cf3b"
      },
      "outputs": [
        {
          "output_type": "stream",
          "name": "stdout",
          "text": [
            "Numeric columns:  ['Age']\n",
            "Categoric columns:  ['Gender', 'Smoking', 'Hx Smoking', 'Hx Radiothreapy', 'Thyroid Function', 'Physical Examination', 'Adenopathy', 'Pathology', 'Focality', 'Risk', 'T', 'N', 'M', 'Stage', 'Response']\n"
          ]
        }
      ],
      "source": [
        "print('Numeric columns: ',numeric_columns)\n",
        "print('Categoric columns: ',categoric_columns)"
      ]
    },
    {
      "cell_type": "markdown",
      "id": "dc8f44b0",
      "metadata": {
        "papermill": {
          "duration": 0.015744,
          "end_time": "2024-05-24T20:52:13.418747",
          "exception": false,
          "start_time": "2024-05-24T20:52:13.403003",
          "status": "completed"
        },
        "tags": [],
        "id": "dc8f44b0"
      },
      "source": [
        "I want to know how many variables there are in my categorical columns so I can determine whether to use a label encoder or one-hot encoding for my features:"
      ]
    },
    {
      "cell_type": "code",
      "execution_count": 9,
      "id": "04f12dc2",
      "metadata": {
        "_kg_hide-input": true,
        "execution": {
          "iopub.execute_input": "2024-05-24T20:52:13.452846Z",
          "iopub.status.busy": "2024-05-24T20:52:13.452169Z",
          "iopub.status.idle": "2024-05-24T20:52:13.461665Z",
          "shell.execute_reply": "2024-05-24T20:52:13.460637Z"
        },
        "papermill": {
          "duration": 0.028942,
          "end_time": "2024-05-24T20:52:13.463842",
          "exception": false,
          "start_time": "2024-05-24T20:52:13.434900",
          "status": "completed"
        },
        "tags": [],
        "colab": {
          "base_uri": "https://localhost:8080/"
        },
        "id": "04f12dc2",
        "outputId": "4dfa0ad3-2562-4b07-b00e-8a47b3777ca0"
      },
      "outputs": [
        {
          "output_type": "stream",
          "name": "stdout",
          "text": [
            "Age                     65\n",
            "Gender                   2\n",
            "Smoking                  2\n",
            "Hx Smoking               2\n",
            "Hx Radiothreapy          2\n",
            "Thyroid Function         5\n",
            "Physical Examination     5\n",
            "Adenopathy               6\n",
            "Pathology                4\n",
            "Focality                 2\n",
            "Risk                     3\n",
            "T                        7\n",
            "N                        3\n",
            "M                        2\n",
            "Stage                    5\n",
            "Response                 4\n",
            "Recurred                 2\n",
            "dtype: int64\n"
          ]
        }
      ],
      "source": [
        "print(df.nunique())"
      ]
    },
    {
      "cell_type": "markdown",
      "id": "88bdcbd9",
      "metadata": {
        "papermill": {
          "duration": 0.015297,
          "end_time": "2024-05-24T20:52:13.556413",
          "exception": false,
          "start_time": "2024-05-24T20:52:13.541116",
          "status": "completed"
        },
        "tags": [],
        "id": "88bdcbd9"
      },
      "source": [
        "I can see that the feature with the most number of unique variables is 'T' with 7. I'll try label encoding for this dataset and if I run into any trouble I'll pivot to one-hot encoding for the features with the most unique variables."
      ]
    },
    {
      "cell_type": "markdown",
      "id": "9391f16a",
      "metadata": {
        "papermill": {
          "duration": 0.01708,
          "end_time": "2024-05-24T20:52:13.588998",
          "exception": false,
          "start_time": "2024-05-24T20:52:13.571918",
          "status": "completed"
        },
        "tags": [],
        "id": "9391f16a"
      },
      "source": [
        "# 2. Feature Engineering"
      ]
    },
    {
      "cell_type": "markdown",
      "id": "c4313bc8",
      "metadata": {
        "papermill": {
          "duration": 0.015353,
          "end_time": "2024-05-24T20:52:13.620189",
          "exception": false,
          "start_time": "2024-05-24T20:52:13.604836",
          "status": "completed"
        },
        "tags": [],
        "id": "c4313bc8"
      },
      "source": [
        "## 2.1 Split the Dataset into Train and Test Sets"
      ]
    },
    {
      "cell_type": "markdown",
      "id": "2cb09b5d",
      "metadata": {
        "papermill": {
          "duration": 0.01532,
          "end_time": "2024-05-24T20:52:13.651136",
          "exception": false,
          "start_time": "2024-05-24T20:52:13.635816",
          "status": "completed"
        },
        "tags": [],
        "id": "2cb09b5d"
      },
      "source": [
        "There is only 1 numerical variable, so we need to encode the categorical variables before we can proceed towards building any type of machine learning model. Before I do that, I need to separate the target variable from the dataset and split the dataset into training and testing sets."
      ]
    },
    {
      "cell_type": "code",
      "execution_count": 10,
      "id": "b064a66a",
      "metadata": {
        "_kg_hide-input": true,
        "execution": {
          "iopub.execute_input": "2024-05-24T20:52:13.688930Z",
          "iopub.status.busy": "2024-05-24T20:52:13.688133Z",
          "iopub.status.idle": "2024-05-24T20:52:13.699737Z",
          "shell.execute_reply": "2024-05-24T20:52:13.698196Z"
        },
        "papermill": {
          "duration": 0.032935,
          "end_time": "2024-05-24T20:52:13.702074",
          "exception": false,
          "start_time": "2024-05-24T20:52:13.669139",
          "status": "completed"
        },
        "tags": [],
        "colab": {
          "base_uri": "https://localhost:8080/"
        },
        "id": "b064a66a",
        "outputId": "3577d033-c763-4f58-d799-b1a9dc2d078c"
      },
      "outputs": [
        {
          "output_type": "stream",
          "name": "stdout",
          "text": [
            "(383, 16)\n",
            "(383, 1)\n"
          ]
        }
      ],
      "source": [
        "# Assign X and y to predictors and target variable\n",
        "\n",
        "X = df.drop('Recurred', axis=1)\n",
        "y = df[['Recurred']]\n",
        "\n",
        "print(X.shape)\n",
        "print(y.shape)"
      ]
    },
    {
      "cell_type": "code",
      "execution_count": 11,
      "id": "7b32eb1f",
      "metadata": {
        "_kg_hide-input": true,
        "execution": {
          "iopub.execute_input": "2024-05-24T20:52:13.737021Z",
          "iopub.status.busy": "2024-05-24T20:52:13.735956Z",
          "iopub.status.idle": "2024-05-24T20:52:13.746256Z",
          "shell.execute_reply": "2024-05-24T20:52:13.744974Z"
        },
        "papermill": {
          "duration": 0.030455,
          "end_time": "2024-05-24T20:52:13.748726",
          "exception": false,
          "start_time": "2024-05-24T20:52:13.718271",
          "status": "completed"
        },
        "tags": [],
        "id": "7b32eb1f"
      },
      "outputs": [],
      "source": [
        "X_train, X_test, y_train, y_test = train_test_split(\n",
        "    X, y, test_size=0.30, random_state=42)"
      ]
    },
    {
      "cell_type": "code",
      "execution_count": 12,
      "id": "576d21a1",
      "metadata": {
        "_kg_hide-input": true,
        "execution": {
          "iopub.execute_input": "2024-05-24T20:52:13.782262Z",
          "iopub.status.busy": "2024-05-24T20:52:13.781854Z",
          "iopub.status.idle": "2024-05-24T20:52:13.799021Z",
          "shell.execute_reply": "2024-05-24T20:52:13.797969Z"
        },
        "papermill": {
          "duration": 0.036663,
          "end_time": "2024-05-24T20:52:13.801343",
          "exception": false,
          "start_time": "2024-05-24T20:52:13.764680",
          "status": "completed"
        },
        "tags": [],
        "colab": {
          "base_uri": "https://localhost:8080/",
          "height": 382
        },
        "id": "576d21a1",
        "outputId": "1af20742-a966-4f81-dcd7-06d691960b1d"
      },
      "outputs": [
        {
          "output_type": "execute_result",
          "data": {
            "text/plain": [
              "   Age Gender Smoking Hx Smoking Hx Radiothreapy Thyroid Function  \\\n",
              "0   27      F      No         No              No        Euthyroid   \n",
              "1   34      F      No        Yes              No        Euthyroid   \n",
              "2   30      F      No         No              No        Euthyroid   \n",
              "3   62      F      No         No              No        Euthyroid   \n",
              "4   62      F      No         No              No        Euthyroid   \n",
              "\n",
              "          Physical Examination Adenopathy       Pathology     Focality Risk  \\\n",
              "0   Single nodular goiter-left         No  Micropapillary    Uni-Focal  Low   \n",
              "1          Multinodular goiter         No  Micropapillary    Uni-Focal  Low   \n",
              "2  Single nodular goiter-right         No  Micropapillary    Uni-Focal  Low   \n",
              "3  Single nodular goiter-right         No  Micropapillary    Uni-Focal  Low   \n",
              "4          Multinodular goiter         No  Micropapillary  Multi-Focal  Low   \n",
              "\n",
              "     T   N   M Stage       Response  \n",
              "0  T1a  N0  M0     I  Indeterminate  \n",
              "1  T1a  N0  M0     I      Excellent  \n",
              "2  T1a  N0  M0     I      Excellent  \n",
              "3  T1a  N0  M0     I      Excellent  \n",
              "4  T1a  N0  M0     I      Excellent  "
            ],
            "text/html": [
              "\n",
              "  <div id=\"df-d2b07a0c-1c41-4e94-9886-ba37091a621f\" class=\"colab-df-container\">\n",
              "    <div>\n",
              "<style scoped>\n",
              "    .dataframe tbody tr th:only-of-type {\n",
              "        vertical-align: middle;\n",
              "    }\n",
              "\n",
              "    .dataframe tbody tr th {\n",
              "        vertical-align: top;\n",
              "    }\n",
              "\n",
              "    .dataframe thead th {\n",
              "        text-align: right;\n",
              "    }\n",
              "</style>\n",
              "<table border=\"1\" class=\"dataframe\">\n",
              "  <thead>\n",
              "    <tr style=\"text-align: right;\">\n",
              "      <th></th>\n",
              "      <th>Age</th>\n",
              "      <th>Gender</th>\n",
              "      <th>Smoking</th>\n",
              "      <th>Hx Smoking</th>\n",
              "      <th>Hx Radiothreapy</th>\n",
              "      <th>Thyroid Function</th>\n",
              "      <th>Physical Examination</th>\n",
              "      <th>Adenopathy</th>\n",
              "      <th>Pathology</th>\n",
              "      <th>Focality</th>\n",
              "      <th>Risk</th>\n",
              "      <th>T</th>\n",
              "      <th>N</th>\n",
              "      <th>M</th>\n",
              "      <th>Stage</th>\n",
              "      <th>Response</th>\n",
              "    </tr>\n",
              "  </thead>\n",
              "  <tbody>\n",
              "    <tr>\n",
              "      <th>0</th>\n",
              "      <td>27</td>\n",
              "      <td>F</td>\n",
              "      <td>No</td>\n",
              "      <td>No</td>\n",
              "      <td>No</td>\n",
              "      <td>Euthyroid</td>\n",
              "      <td>Single nodular goiter-left</td>\n",
              "      <td>No</td>\n",
              "      <td>Micropapillary</td>\n",
              "      <td>Uni-Focal</td>\n",
              "      <td>Low</td>\n",
              "      <td>T1a</td>\n",
              "      <td>N0</td>\n",
              "      <td>M0</td>\n",
              "      <td>I</td>\n",
              "      <td>Indeterminate</td>\n",
              "    </tr>\n",
              "    <tr>\n",
              "      <th>1</th>\n",
              "      <td>34</td>\n",
              "      <td>F</td>\n",
              "      <td>No</td>\n",
              "      <td>Yes</td>\n",
              "      <td>No</td>\n",
              "      <td>Euthyroid</td>\n",
              "      <td>Multinodular goiter</td>\n",
              "      <td>No</td>\n",
              "      <td>Micropapillary</td>\n",
              "      <td>Uni-Focal</td>\n",
              "      <td>Low</td>\n",
              "      <td>T1a</td>\n",
              "      <td>N0</td>\n",
              "      <td>M0</td>\n",
              "      <td>I</td>\n",
              "      <td>Excellent</td>\n",
              "    </tr>\n",
              "    <tr>\n",
              "      <th>2</th>\n",
              "      <td>30</td>\n",
              "      <td>F</td>\n",
              "      <td>No</td>\n",
              "      <td>No</td>\n",
              "      <td>No</td>\n",
              "      <td>Euthyroid</td>\n",
              "      <td>Single nodular goiter-right</td>\n",
              "      <td>No</td>\n",
              "      <td>Micropapillary</td>\n",
              "      <td>Uni-Focal</td>\n",
              "      <td>Low</td>\n",
              "      <td>T1a</td>\n",
              "      <td>N0</td>\n",
              "      <td>M0</td>\n",
              "      <td>I</td>\n",
              "      <td>Excellent</td>\n",
              "    </tr>\n",
              "    <tr>\n",
              "      <th>3</th>\n",
              "      <td>62</td>\n",
              "      <td>F</td>\n",
              "      <td>No</td>\n",
              "      <td>No</td>\n",
              "      <td>No</td>\n",
              "      <td>Euthyroid</td>\n",
              "      <td>Single nodular goiter-right</td>\n",
              "      <td>No</td>\n",
              "      <td>Micropapillary</td>\n",
              "      <td>Uni-Focal</td>\n",
              "      <td>Low</td>\n",
              "      <td>T1a</td>\n",
              "      <td>N0</td>\n",
              "      <td>M0</td>\n",
              "      <td>I</td>\n",
              "      <td>Excellent</td>\n",
              "    </tr>\n",
              "    <tr>\n",
              "      <th>4</th>\n",
              "      <td>62</td>\n",
              "      <td>F</td>\n",
              "      <td>No</td>\n",
              "      <td>No</td>\n",
              "      <td>No</td>\n",
              "      <td>Euthyroid</td>\n",
              "      <td>Multinodular goiter</td>\n",
              "      <td>No</td>\n",
              "      <td>Micropapillary</td>\n",
              "      <td>Multi-Focal</td>\n",
              "      <td>Low</td>\n",
              "      <td>T1a</td>\n",
              "      <td>N0</td>\n",
              "      <td>M0</td>\n",
              "      <td>I</td>\n",
              "      <td>Excellent</td>\n",
              "    </tr>\n",
              "  </tbody>\n",
              "</table>\n",
              "</div>\n",
              "    <div class=\"colab-df-buttons\">\n",
              "\n",
              "  <div class=\"colab-df-container\">\n",
              "    <button class=\"colab-df-convert\" onclick=\"convertToInteractive('df-d2b07a0c-1c41-4e94-9886-ba37091a621f')\"\n",
              "            title=\"Convert this dataframe to an interactive table.\"\n",
              "            style=\"display:none;\">\n",
              "\n",
              "  <svg xmlns=\"http://www.w3.org/2000/svg\" height=\"24px\" viewBox=\"0 -960 960 960\">\n",
              "    <path d=\"M120-120v-720h720v720H120Zm60-500h600v-160H180v160Zm220 220h160v-160H400v160Zm0 220h160v-160H400v160ZM180-400h160v-160H180v160Zm440 0h160v-160H620v160ZM180-180h160v-160H180v160Zm440 0h160v-160H620v160Z\"/>\n",
              "  </svg>\n",
              "    </button>\n",
              "\n",
              "  <style>\n",
              "    .colab-df-container {\n",
              "      display:flex;\n",
              "      gap: 12px;\n",
              "    }\n",
              "\n",
              "    .colab-df-convert {\n",
              "      background-color: #E8F0FE;\n",
              "      border: none;\n",
              "      border-radius: 50%;\n",
              "      cursor: pointer;\n",
              "      display: none;\n",
              "      fill: #1967D2;\n",
              "      height: 32px;\n",
              "      padding: 0 0 0 0;\n",
              "      width: 32px;\n",
              "    }\n",
              "\n",
              "    .colab-df-convert:hover {\n",
              "      background-color: #E2EBFA;\n",
              "      box-shadow: 0px 1px 2px rgba(60, 64, 67, 0.3), 0px 1px 3px 1px rgba(60, 64, 67, 0.15);\n",
              "      fill: #174EA6;\n",
              "    }\n",
              "\n",
              "    .colab-df-buttons div {\n",
              "      margin-bottom: 4px;\n",
              "    }\n",
              "\n",
              "    [theme=dark] .colab-df-convert {\n",
              "      background-color: #3B4455;\n",
              "      fill: #D2E3FC;\n",
              "    }\n",
              "\n",
              "    [theme=dark] .colab-df-convert:hover {\n",
              "      background-color: #434B5C;\n",
              "      box-shadow: 0px 1px 3px 1px rgba(0, 0, 0, 0.15);\n",
              "      filter: drop-shadow(0px 1px 2px rgba(0, 0, 0, 0.3));\n",
              "      fill: #FFFFFF;\n",
              "    }\n",
              "  </style>\n",
              "\n",
              "    <script>\n",
              "      const buttonEl =\n",
              "        document.querySelector('#df-d2b07a0c-1c41-4e94-9886-ba37091a621f button.colab-df-convert');\n",
              "      buttonEl.style.display =\n",
              "        google.colab.kernel.accessAllowed ? 'block' : 'none';\n",
              "\n",
              "      async function convertToInteractive(key) {\n",
              "        const element = document.querySelector('#df-d2b07a0c-1c41-4e94-9886-ba37091a621f');\n",
              "        const dataTable =\n",
              "          await google.colab.kernel.invokeFunction('convertToInteractive',\n",
              "                                                    [key], {});\n",
              "        if (!dataTable) return;\n",
              "\n",
              "        const docLinkHtml = 'Like what you see? Visit the ' +\n",
              "          '<a target=\"_blank\" href=https://colab.research.google.com/notebooks/data_table.ipynb>data table notebook</a>'\n",
              "          + ' to learn more about interactive tables.';\n",
              "        element.innerHTML = '';\n",
              "        dataTable['output_type'] = 'display_data';\n",
              "        await google.colab.output.renderOutput(dataTable, element);\n",
              "        const docLink = document.createElement('div');\n",
              "        docLink.innerHTML = docLinkHtml;\n",
              "        element.appendChild(docLink);\n",
              "      }\n",
              "    </script>\n",
              "  </div>\n",
              "\n",
              "\n",
              "<div id=\"df-e5973e8a-0645-4546-80cc-f4a6ad2a6822\">\n",
              "  <button class=\"colab-df-quickchart\" onclick=\"quickchart('df-e5973e8a-0645-4546-80cc-f4a6ad2a6822')\"\n",
              "            title=\"Suggest charts\"\n",
              "            style=\"display:none;\">\n",
              "\n",
              "<svg xmlns=\"http://www.w3.org/2000/svg\" height=\"24px\"viewBox=\"0 0 24 24\"\n",
              "     width=\"24px\">\n",
              "    <g>\n",
              "        <path d=\"M19 3H5c-1.1 0-2 .9-2 2v14c0 1.1.9 2 2 2h14c1.1 0 2-.9 2-2V5c0-1.1-.9-2-2-2zM9 17H7v-7h2v7zm4 0h-2V7h2v10zm4 0h-2v-4h2v4z\"/>\n",
              "    </g>\n",
              "</svg>\n",
              "  </button>\n",
              "\n",
              "<style>\n",
              "  .colab-df-quickchart {\n",
              "      --bg-color: #E8F0FE;\n",
              "      --fill-color: #1967D2;\n",
              "      --hover-bg-color: #E2EBFA;\n",
              "      --hover-fill-color: #174EA6;\n",
              "      --disabled-fill-color: #AAA;\n",
              "      --disabled-bg-color: #DDD;\n",
              "  }\n",
              "\n",
              "  [theme=dark] .colab-df-quickchart {\n",
              "      --bg-color: #3B4455;\n",
              "      --fill-color: #D2E3FC;\n",
              "      --hover-bg-color: #434B5C;\n",
              "      --hover-fill-color: #FFFFFF;\n",
              "      --disabled-bg-color: #3B4455;\n",
              "      --disabled-fill-color: #666;\n",
              "  }\n",
              "\n",
              "  .colab-df-quickchart {\n",
              "    background-color: var(--bg-color);\n",
              "    border: none;\n",
              "    border-radius: 50%;\n",
              "    cursor: pointer;\n",
              "    display: none;\n",
              "    fill: var(--fill-color);\n",
              "    height: 32px;\n",
              "    padding: 0;\n",
              "    width: 32px;\n",
              "  }\n",
              "\n",
              "  .colab-df-quickchart:hover {\n",
              "    background-color: var(--hover-bg-color);\n",
              "    box-shadow: 0 1px 2px rgba(60, 64, 67, 0.3), 0 1px 3px 1px rgba(60, 64, 67, 0.15);\n",
              "    fill: var(--button-hover-fill-color);\n",
              "  }\n",
              "\n",
              "  .colab-df-quickchart-complete:disabled,\n",
              "  .colab-df-quickchart-complete:disabled:hover {\n",
              "    background-color: var(--disabled-bg-color);\n",
              "    fill: var(--disabled-fill-color);\n",
              "    box-shadow: none;\n",
              "  }\n",
              "\n",
              "  .colab-df-spinner {\n",
              "    border: 2px solid var(--fill-color);\n",
              "    border-color: transparent;\n",
              "    border-bottom-color: var(--fill-color);\n",
              "    animation:\n",
              "      spin 1s steps(1) infinite;\n",
              "  }\n",
              "\n",
              "  @keyframes spin {\n",
              "    0% {\n",
              "      border-color: transparent;\n",
              "      border-bottom-color: var(--fill-color);\n",
              "      border-left-color: var(--fill-color);\n",
              "    }\n",
              "    20% {\n",
              "      border-color: transparent;\n",
              "      border-left-color: var(--fill-color);\n",
              "      border-top-color: var(--fill-color);\n",
              "    }\n",
              "    30% {\n",
              "      border-color: transparent;\n",
              "      border-left-color: var(--fill-color);\n",
              "      border-top-color: var(--fill-color);\n",
              "      border-right-color: var(--fill-color);\n",
              "    }\n",
              "    40% {\n",
              "      border-color: transparent;\n",
              "      border-right-color: var(--fill-color);\n",
              "      border-top-color: var(--fill-color);\n",
              "    }\n",
              "    60% {\n",
              "      border-color: transparent;\n",
              "      border-right-color: var(--fill-color);\n",
              "    }\n",
              "    80% {\n",
              "      border-color: transparent;\n",
              "      border-right-color: var(--fill-color);\n",
              "      border-bottom-color: var(--fill-color);\n",
              "    }\n",
              "    90% {\n",
              "      border-color: transparent;\n",
              "      border-bottom-color: var(--fill-color);\n",
              "    }\n",
              "  }\n",
              "</style>\n",
              "\n",
              "  <script>\n",
              "    async function quickchart(key) {\n",
              "      const quickchartButtonEl =\n",
              "        document.querySelector('#' + key + ' button');\n",
              "      quickchartButtonEl.disabled = true;  // To prevent multiple clicks.\n",
              "      quickchartButtonEl.classList.add('colab-df-spinner');\n",
              "      try {\n",
              "        const charts = await google.colab.kernel.invokeFunction(\n",
              "            'suggestCharts', [key], {});\n",
              "      } catch (error) {\n",
              "        console.error('Error during call to suggestCharts:', error);\n",
              "      }\n",
              "      quickchartButtonEl.classList.remove('colab-df-spinner');\n",
              "      quickchartButtonEl.classList.add('colab-df-quickchart-complete');\n",
              "    }\n",
              "    (() => {\n",
              "      let quickchartButtonEl =\n",
              "        document.querySelector('#df-e5973e8a-0645-4546-80cc-f4a6ad2a6822 button');\n",
              "      quickchartButtonEl.style.display =\n",
              "        google.colab.kernel.accessAllowed ? 'block' : 'none';\n",
              "    })();\n",
              "  </script>\n",
              "</div>\n",
              "\n",
              "    </div>\n",
              "  </div>\n"
            ],
            "application/vnd.google.colaboratory.intrinsic+json": {
              "type": "dataframe",
              "variable_name": "X",
              "summary": "{\n  \"name\": \"X\",\n  \"rows\": 383,\n  \"fields\": [\n    {\n      \"column\": \"Age\",\n      \"properties\": {\n        \"dtype\": \"number\",\n        \"std\": 15,\n        \"min\": 15,\n        \"max\": 82,\n        \"num_unique_values\": 65,\n        \"samples\": [\n          48,\n          15,\n          27\n        ],\n        \"semantic_type\": \"\",\n        \"description\": \"\"\n      }\n    },\n    {\n      \"column\": \"Gender\",\n      \"properties\": {\n        \"dtype\": \"category\",\n        \"num_unique_values\": 2,\n        \"samples\": [\n          \"M\",\n          \"F\"\n        ],\n        \"semantic_type\": \"\",\n        \"description\": \"\"\n      }\n    },\n    {\n      \"column\": \"Smoking\",\n      \"properties\": {\n        \"dtype\": \"category\",\n        \"num_unique_values\": 2,\n        \"samples\": [\n          \"Yes\",\n          \"No\"\n        ],\n        \"semantic_type\": \"\",\n        \"description\": \"\"\n      }\n    },\n    {\n      \"column\": \"Hx Smoking\",\n      \"properties\": {\n        \"dtype\": \"category\",\n        \"num_unique_values\": 2,\n        \"samples\": [\n          \"Yes\",\n          \"No\"\n        ],\n        \"semantic_type\": \"\",\n        \"description\": \"\"\n      }\n    },\n    {\n      \"column\": \"Hx Radiothreapy\",\n      \"properties\": {\n        \"dtype\": \"category\",\n        \"num_unique_values\": 2,\n        \"samples\": [\n          \"Yes\",\n          \"No\"\n        ],\n        \"semantic_type\": \"\",\n        \"description\": \"\"\n      }\n    },\n    {\n      \"column\": \"Thyroid Function\",\n      \"properties\": {\n        \"dtype\": \"category\",\n        \"num_unique_values\": 5,\n        \"samples\": [\n          \"Clinical Hyperthyroidism\",\n          \"Subclinical Hypothyroidism\"\n        ],\n        \"semantic_type\": \"\",\n        \"description\": \"\"\n      }\n    },\n    {\n      \"column\": \"Physical Examination\",\n      \"properties\": {\n        \"dtype\": \"category\",\n        \"num_unique_values\": 5,\n        \"samples\": [\n          \"Multinodular goiter\",\n          \"Diffuse goiter\"\n        ],\n        \"semantic_type\": \"\",\n        \"description\": \"\"\n      }\n    },\n    {\n      \"column\": \"Adenopathy\",\n      \"properties\": {\n        \"dtype\": \"category\",\n        \"num_unique_values\": 6,\n        \"samples\": [\n          \"No\",\n          \"Right\"\n        ],\n        \"semantic_type\": \"\",\n        \"description\": \"\"\n      }\n    },\n    {\n      \"column\": \"Pathology\",\n      \"properties\": {\n        \"dtype\": \"category\",\n        \"num_unique_values\": 4,\n        \"samples\": [\n          \"Papillary\",\n          \"Hurthel cell\"\n        ],\n        \"semantic_type\": \"\",\n        \"description\": \"\"\n      }\n    },\n    {\n      \"column\": \"Focality\",\n      \"properties\": {\n        \"dtype\": \"category\",\n        \"num_unique_values\": 2,\n        \"samples\": [\n          \"Multi-Focal\",\n          \"Uni-Focal\"\n        ],\n        \"semantic_type\": \"\",\n        \"description\": \"\"\n      }\n    },\n    {\n      \"column\": \"Risk\",\n      \"properties\": {\n        \"dtype\": \"category\",\n        \"num_unique_values\": 3,\n        \"samples\": [\n          \"Low\",\n          \"Intermediate\"\n        ],\n        \"semantic_type\": \"\",\n        \"description\": \"\"\n      }\n    },\n    {\n      \"column\": \"T\",\n      \"properties\": {\n        \"dtype\": \"category\",\n        \"num_unique_values\": 7,\n        \"samples\": [\n          \"T1a\",\n          \"T1b\"\n        ],\n        \"semantic_type\": \"\",\n        \"description\": \"\"\n      }\n    },\n    {\n      \"column\": \"N\",\n      \"properties\": {\n        \"dtype\": \"category\",\n        \"num_unique_values\": 3,\n        \"samples\": [\n          \"N0\",\n          \"N1b\"\n        ],\n        \"semantic_type\": \"\",\n        \"description\": \"\"\n      }\n    },\n    {\n      \"column\": \"M\",\n      \"properties\": {\n        \"dtype\": \"category\",\n        \"num_unique_values\": 2,\n        \"samples\": [\n          \"M1\",\n          \"M0\"\n        ],\n        \"semantic_type\": \"\",\n        \"description\": \"\"\n      }\n    },\n    {\n      \"column\": \"Stage\",\n      \"properties\": {\n        \"dtype\": \"category\",\n        \"num_unique_values\": 5,\n        \"samples\": [\n          \"II\",\n          \"IVA\"\n        ],\n        \"semantic_type\": \"\",\n        \"description\": \"\"\n      }\n    },\n    {\n      \"column\": \"Response\",\n      \"properties\": {\n        \"dtype\": \"category\",\n        \"num_unique_values\": 4,\n        \"samples\": [\n          \"Excellent\",\n          \"Biochemical Incomplete\"\n        ],\n        \"semantic_type\": \"\",\n        \"description\": \"\"\n      }\n    }\n  ]\n}"
            }
          },
          "metadata": {},
          "execution_count": 12
        }
      ],
      "source": [
        "X.head()"
      ]
    },
    {
      "cell_type": "code",
      "execution_count": 13,
      "id": "9787260f",
      "metadata": {
        "_kg_hide-input": true,
        "execution": {
          "iopub.execute_input": "2024-05-24T20:52:13.835708Z",
          "iopub.status.busy": "2024-05-24T20:52:13.835292Z",
          "iopub.status.idle": "2024-05-24T20:52:13.843939Z",
          "shell.execute_reply": "2024-05-24T20:52:13.842908Z"
        },
        "papermill": {
          "duration": 0.028391,
          "end_time": "2024-05-24T20:52:13.846084",
          "exception": false,
          "start_time": "2024-05-24T20:52:13.817693",
          "status": "completed"
        },
        "tags": [],
        "colab": {
          "base_uri": "https://localhost:8080/",
          "height": 206
        },
        "id": "9787260f",
        "outputId": "42cf955a-c5e9-4984-ea30-1af5cfb0192f"
      },
      "outputs": [
        {
          "output_type": "execute_result",
          "data": {
            "text/plain": [
              "  Recurred\n",
              "0       No\n",
              "1       No\n",
              "2       No\n",
              "3       No\n",
              "4       No"
            ],
            "text/html": [
              "\n",
              "  <div id=\"df-d7bac73c-13da-44da-a4ea-24d7b3766266\" class=\"colab-df-container\">\n",
              "    <div>\n",
              "<style scoped>\n",
              "    .dataframe tbody tr th:only-of-type {\n",
              "        vertical-align: middle;\n",
              "    }\n",
              "\n",
              "    .dataframe tbody tr th {\n",
              "        vertical-align: top;\n",
              "    }\n",
              "\n",
              "    .dataframe thead th {\n",
              "        text-align: right;\n",
              "    }\n",
              "</style>\n",
              "<table border=\"1\" class=\"dataframe\">\n",
              "  <thead>\n",
              "    <tr style=\"text-align: right;\">\n",
              "      <th></th>\n",
              "      <th>Recurred</th>\n",
              "    </tr>\n",
              "  </thead>\n",
              "  <tbody>\n",
              "    <tr>\n",
              "      <th>0</th>\n",
              "      <td>No</td>\n",
              "    </tr>\n",
              "    <tr>\n",
              "      <th>1</th>\n",
              "      <td>No</td>\n",
              "    </tr>\n",
              "    <tr>\n",
              "      <th>2</th>\n",
              "      <td>No</td>\n",
              "    </tr>\n",
              "    <tr>\n",
              "      <th>3</th>\n",
              "      <td>No</td>\n",
              "    </tr>\n",
              "    <tr>\n",
              "      <th>4</th>\n",
              "      <td>No</td>\n",
              "    </tr>\n",
              "  </tbody>\n",
              "</table>\n",
              "</div>\n",
              "    <div class=\"colab-df-buttons\">\n",
              "\n",
              "  <div class=\"colab-df-container\">\n",
              "    <button class=\"colab-df-convert\" onclick=\"convertToInteractive('df-d7bac73c-13da-44da-a4ea-24d7b3766266')\"\n",
              "            title=\"Convert this dataframe to an interactive table.\"\n",
              "            style=\"display:none;\">\n",
              "\n",
              "  <svg xmlns=\"http://www.w3.org/2000/svg\" height=\"24px\" viewBox=\"0 -960 960 960\">\n",
              "    <path d=\"M120-120v-720h720v720H120Zm60-500h600v-160H180v160Zm220 220h160v-160H400v160Zm0 220h160v-160H400v160ZM180-400h160v-160H180v160Zm440 0h160v-160H620v160ZM180-180h160v-160H180v160Zm440 0h160v-160H620v160Z\"/>\n",
              "  </svg>\n",
              "    </button>\n",
              "\n",
              "  <style>\n",
              "    .colab-df-container {\n",
              "      display:flex;\n",
              "      gap: 12px;\n",
              "    }\n",
              "\n",
              "    .colab-df-convert {\n",
              "      background-color: #E8F0FE;\n",
              "      border: none;\n",
              "      border-radius: 50%;\n",
              "      cursor: pointer;\n",
              "      display: none;\n",
              "      fill: #1967D2;\n",
              "      height: 32px;\n",
              "      padding: 0 0 0 0;\n",
              "      width: 32px;\n",
              "    }\n",
              "\n",
              "    .colab-df-convert:hover {\n",
              "      background-color: #E2EBFA;\n",
              "      box-shadow: 0px 1px 2px rgba(60, 64, 67, 0.3), 0px 1px 3px 1px rgba(60, 64, 67, 0.15);\n",
              "      fill: #174EA6;\n",
              "    }\n",
              "\n",
              "    .colab-df-buttons div {\n",
              "      margin-bottom: 4px;\n",
              "    }\n",
              "\n",
              "    [theme=dark] .colab-df-convert {\n",
              "      background-color: #3B4455;\n",
              "      fill: #D2E3FC;\n",
              "    }\n",
              "\n",
              "    [theme=dark] .colab-df-convert:hover {\n",
              "      background-color: #434B5C;\n",
              "      box-shadow: 0px 1px 3px 1px rgba(0, 0, 0, 0.15);\n",
              "      filter: drop-shadow(0px 1px 2px rgba(0, 0, 0, 0.3));\n",
              "      fill: #FFFFFF;\n",
              "    }\n",
              "  </style>\n",
              "\n",
              "    <script>\n",
              "      const buttonEl =\n",
              "        document.querySelector('#df-d7bac73c-13da-44da-a4ea-24d7b3766266 button.colab-df-convert');\n",
              "      buttonEl.style.display =\n",
              "        google.colab.kernel.accessAllowed ? 'block' : 'none';\n",
              "\n",
              "      async function convertToInteractive(key) {\n",
              "        const element = document.querySelector('#df-d7bac73c-13da-44da-a4ea-24d7b3766266');\n",
              "        const dataTable =\n",
              "          await google.colab.kernel.invokeFunction('convertToInteractive',\n",
              "                                                    [key], {});\n",
              "        if (!dataTable) return;\n",
              "\n",
              "        const docLinkHtml = 'Like what you see? Visit the ' +\n",
              "          '<a target=\"_blank\" href=https://colab.research.google.com/notebooks/data_table.ipynb>data table notebook</a>'\n",
              "          + ' to learn more about interactive tables.';\n",
              "        element.innerHTML = '';\n",
              "        dataTable['output_type'] = 'display_data';\n",
              "        await google.colab.output.renderOutput(dataTable, element);\n",
              "        const docLink = document.createElement('div');\n",
              "        docLink.innerHTML = docLinkHtml;\n",
              "        element.appendChild(docLink);\n",
              "      }\n",
              "    </script>\n",
              "  </div>\n",
              "\n",
              "\n",
              "<div id=\"df-b2b4a6f8-da9e-47ce-a42c-973b4e61b9f0\">\n",
              "  <button class=\"colab-df-quickchart\" onclick=\"quickchart('df-b2b4a6f8-da9e-47ce-a42c-973b4e61b9f0')\"\n",
              "            title=\"Suggest charts\"\n",
              "            style=\"display:none;\">\n",
              "\n",
              "<svg xmlns=\"http://www.w3.org/2000/svg\" height=\"24px\"viewBox=\"0 0 24 24\"\n",
              "     width=\"24px\">\n",
              "    <g>\n",
              "        <path d=\"M19 3H5c-1.1 0-2 .9-2 2v14c0 1.1.9 2 2 2h14c1.1 0 2-.9 2-2V5c0-1.1-.9-2-2-2zM9 17H7v-7h2v7zm4 0h-2V7h2v10zm4 0h-2v-4h2v4z\"/>\n",
              "    </g>\n",
              "</svg>\n",
              "  </button>\n",
              "\n",
              "<style>\n",
              "  .colab-df-quickchart {\n",
              "      --bg-color: #E8F0FE;\n",
              "      --fill-color: #1967D2;\n",
              "      --hover-bg-color: #E2EBFA;\n",
              "      --hover-fill-color: #174EA6;\n",
              "      --disabled-fill-color: #AAA;\n",
              "      --disabled-bg-color: #DDD;\n",
              "  }\n",
              "\n",
              "  [theme=dark] .colab-df-quickchart {\n",
              "      --bg-color: #3B4455;\n",
              "      --fill-color: #D2E3FC;\n",
              "      --hover-bg-color: #434B5C;\n",
              "      --hover-fill-color: #FFFFFF;\n",
              "      --disabled-bg-color: #3B4455;\n",
              "      --disabled-fill-color: #666;\n",
              "  }\n",
              "\n",
              "  .colab-df-quickchart {\n",
              "    background-color: var(--bg-color);\n",
              "    border: none;\n",
              "    border-radius: 50%;\n",
              "    cursor: pointer;\n",
              "    display: none;\n",
              "    fill: var(--fill-color);\n",
              "    height: 32px;\n",
              "    padding: 0;\n",
              "    width: 32px;\n",
              "  }\n",
              "\n",
              "  .colab-df-quickchart:hover {\n",
              "    background-color: var(--hover-bg-color);\n",
              "    box-shadow: 0 1px 2px rgba(60, 64, 67, 0.3), 0 1px 3px 1px rgba(60, 64, 67, 0.15);\n",
              "    fill: var(--button-hover-fill-color);\n",
              "  }\n",
              "\n",
              "  .colab-df-quickchart-complete:disabled,\n",
              "  .colab-df-quickchart-complete:disabled:hover {\n",
              "    background-color: var(--disabled-bg-color);\n",
              "    fill: var(--disabled-fill-color);\n",
              "    box-shadow: none;\n",
              "  }\n",
              "\n",
              "  .colab-df-spinner {\n",
              "    border: 2px solid var(--fill-color);\n",
              "    border-color: transparent;\n",
              "    border-bottom-color: var(--fill-color);\n",
              "    animation:\n",
              "      spin 1s steps(1) infinite;\n",
              "  }\n",
              "\n",
              "  @keyframes spin {\n",
              "    0% {\n",
              "      border-color: transparent;\n",
              "      border-bottom-color: var(--fill-color);\n",
              "      border-left-color: var(--fill-color);\n",
              "    }\n",
              "    20% {\n",
              "      border-color: transparent;\n",
              "      border-left-color: var(--fill-color);\n",
              "      border-top-color: var(--fill-color);\n",
              "    }\n",
              "    30% {\n",
              "      border-color: transparent;\n",
              "      border-left-color: var(--fill-color);\n",
              "      border-top-color: var(--fill-color);\n",
              "      border-right-color: var(--fill-color);\n",
              "    }\n",
              "    40% {\n",
              "      border-color: transparent;\n",
              "      border-right-color: var(--fill-color);\n",
              "      border-top-color: var(--fill-color);\n",
              "    }\n",
              "    60% {\n",
              "      border-color: transparent;\n",
              "      border-right-color: var(--fill-color);\n",
              "    }\n",
              "    80% {\n",
              "      border-color: transparent;\n",
              "      border-right-color: var(--fill-color);\n",
              "      border-bottom-color: var(--fill-color);\n",
              "    }\n",
              "    90% {\n",
              "      border-color: transparent;\n",
              "      border-bottom-color: var(--fill-color);\n",
              "    }\n",
              "  }\n",
              "</style>\n",
              "\n",
              "  <script>\n",
              "    async function quickchart(key) {\n",
              "      const quickchartButtonEl =\n",
              "        document.querySelector('#' + key + ' button');\n",
              "      quickchartButtonEl.disabled = true;  // To prevent multiple clicks.\n",
              "      quickchartButtonEl.classList.add('colab-df-spinner');\n",
              "      try {\n",
              "        const charts = await google.colab.kernel.invokeFunction(\n",
              "            'suggestCharts', [key], {});\n",
              "      } catch (error) {\n",
              "        console.error('Error during call to suggestCharts:', error);\n",
              "      }\n",
              "      quickchartButtonEl.classList.remove('colab-df-spinner');\n",
              "      quickchartButtonEl.classList.add('colab-df-quickchart-complete');\n",
              "    }\n",
              "    (() => {\n",
              "      let quickchartButtonEl =\n",
              "        document.querySelector('#df-b2b4a6f8-da9e-47ce-a42c-973b4e61b9f0 button');\n",
              "      quickchartButtonEl.style.display =\n",
              "        google.colab.kernel.accessAllowed ? 'block' : 'none';\n",
              "    })();\n",
              "  </script>\n",
              "</div>\n",
              "\n",
              "    </div>\n",
              "  </div>\n"
            ],
            "application/vnd.google.colaboratory.intrinsic+json": {
              "type": "dataframe",
              "variable_name": "y",
              "summary": "{\n  \"name\": \"y\",\n  \"rows\": 383,\n  \"fields\": [\n    {\n      \"column\": \"Recurred\",\n      \"properties\": {\n        \"dtype\": \"category\",\n        \"num_unique_values\": 2,\n        \"samples\": [\n          \"Yes\",\n          \"No\"\n        ],\n        \"semantic_type\": \"\",\n        \"description\": \"\"\n      }\n    }\n  ]\n}"
            }
          },
          "metadata": {},
          "execution_count": 13
        }
      ],
      "source": [
        "y.head()"
      ]
    },
    {
      "cell_type": "code",
      "execution_count": 14,
      "id": "f9f5a2a1",
      "metadata": {
        "_kg_hide-input": true,
        "execution": {
          "iopub.execute_input": "2024-05-24T20:52:13.879992Z",
          "iopub.status.busy": "2024-05-24T20:52:13.879631Z",
          "iopub.status.idle": "2024-05-24T20:52:13.886377Z",
          "shell.execute_reply": "2024-05-24T20:52:13.885217Z"
        },
        "papermill": {
          "duration": 0.026551,
          "end_time": "2024-05-24T20:52:13.888814",
          "exception": false,
          "start_time": "2024-05-24T20:52:13.862263",
          "status": "completed"
        },
        "tags": [],
        "colab": {
          "base_uri": "https://localhost:8080/"
        },
        "id": "f9f5a2a1",
        "outputId": "c1f87261-6a2c-4684-91df-e638a7775572"
      },
      "outputs": [
        {
          "output_type": "execute_result",
          "data": {
            "text/plain": [
              "(268, 16)"
            ]
          },
          "metadata": {},
          "execution_count": 14
        }
      ],
      "source": [
        "X_train.shape"
      ]
    },
    {
      "cell_type": "code",
      "execution_count": 15,
      "id": "1c68a6cf",
      "metadata": {
        "_kg_hide-input": true,
        "execution": {
          "iopub.execute_input": "2024-05-24T20:52:13.923023Z",
          "iopub.status.busy": "2024-05-24T20:52:13.922668Z",
          "iopub.status.idle": "2024-05-24T20:52:13.928936Z",
          "shell.execute_reply": "2024-05-24T20:52:13.927946Z"
        },
        "papermill": {
          "duration": 0.025836,
          "end_time": "2024-05-24T20:52:13.930930",
          "exception": false,
          "start_time": "2024-05-24T20:52:13.905094",
          "status": "completed"
        },
        "tags": [],
        "colab": {
          "base_uri": "https://localhost:8080/"
        },
        "id": "1c68a6cf",
        "outputId": "00fab814-6227-445f-f10e-6d2eb2b3c4ae"
      },
      "outputs": [
        {
          "output_type": "execute_result",
          "data": {
            "text/plain": [
              "(268, 1)"
            ]
          },
          "metadata": {},
          "execution_count": 15
        }
      ],
      "source": [
        "y_train.shape"
      ]
    },
    {
      "cell_type": "markdown",
      "id": "85bea451",
      "metadata": {
        "papermill": {
          "duration": 0.016472,
          "end_time": "2024-05-24T20:52:13.963860",
          "exception": false,
          "start_time": "2024-05-24T20:52:13.947388",
          "status": "completed"
        },
        "tags": [],
        "id": "85bea451"
      },
      "source": [
        "The shape of my training sets matches, this is a sign that the split went correclty and I can proceed to feature scaling."
      ]
    },
    {
      "cell_type": "markdown",
      "id": "cbf48c93",
      "metadata": {
        "papermill": {
          "duration": 0.016192,
          "end_time": "2024-05-24T20:52:13.996572",
          "exception": false,
          "start_time": "2024-05-24T20:52:13.980380",
          "status": "completed"
        },
        "tags": [],
        "id": "cbf48c93"
      },
      "source": [
        "## 2.2 Feature Scaling"
      ]
    },
    {
      "cell_type": "markdown",
      "id": "fa9daf0a",
      "metadata": {
        "papermill": {
          "duration": 0.016769,
          "end_time": "2024-05-24T20:52:14.029730",
          "exception": false,
          "start_time": "2024-05-24T20:52:14.012961",
          "status": "completed"
        },
        "tags": [],
        "id": "fa9daf0a"
      },
      "source": [
        "I'll use a standard scaler on the numerical column (age) before I encode the categorical columns"
      ]
    },
    {
      "cell_type": "code",
      "execution_count": 16,
      "id": "a6a40558",
      "metadata": {
        "_kg_hide-input": true,
        "execution": {
          "iopub.execute_input": "2024-05-24T20:52:14.064934Z",
          "iopub.status.busy": "2024-05-24T20:52:14.064570Z",
          "iopub.status.idle": "2024-05-24T20:52:14.076604Z",
          "shell.execute_reply": "2024-05-24T20:52:14.075674Z"
        },
        "papermill": {
          "duration": 0.032362,
          "end_time": "2024-05-24T20:52:14.078818",
          "exception": false,
          "start_time": "2024-05-24T20:52:14.046456",
          "status": "completed"
        },
        "tags": [],
        "id": "a6a40558"
      },
      "outputs": [],
      "source": [
        "Standard_Scaler = StandardScaler()\n",
        "X_train[numeric_columns] = Standard_Scaler.fit_transform(X_train[numeric_columns])\n",
        "X_test[numeric_columns] = Standard_Scaler.transform(X_test[numeric_columns])"
      ]
    },
    {
      "cell_type": "code",
      "source": [
        "X_train"
      ],
      "metadata": {
        "colab": {
          "base_uri": "https://localhost:8080/",
          "height": 704
        },
        "id": "NL91ed7oEFQ-",
        "outputId": "69b86e99-95fe-45f5-a5a2-e624fceee8da"
      },
      "id": "NL91ed7oEFQ-",
      "execution_count": 17,
      "outputs": [
        {
          "output_type": "execute_result",
          "data": {
            "text/plain": [
              "          Age Gender Smoking Hx Smoking Hx Radiothreapy  \\\n",
              "335 -0.796292      M      No         No              No   \n",
              "140 -0.861915      F      No         No              No   \n",
              "132 -0.599423      F      No         No              No   \n",
              "253 -0.205684      F      No         No              No   \n",
              "153  1.434892      F      No         No              No   \n",
              "..        ...    ...     ...        ...             ...   \n",
              "71   1.828631      F      No         No              No   \n",
              "106 -0.993161      F      No         No              No   \n",
              "270 -0.140061      F      No         No              No   \n",
              "348  1.106777      F      No         No              No   \n",
              "102 -0.927538      F      No         No              No   \n",
              "\n",
              "               Thyroid Function         Physical Examination Adenopathy  \\\n",
              "335                   Euthyroid          Multinodular goiter  Extensive   \n",
              "140                   Euthyroid          Multinodular goiter         No   \n",
              "132                   Euthyroid  Single nodular goiter-right         No   \n",
              "253                   Euthyroid          Multinodular goiter         No   \n",
              "153                   Euthyroid                       Normal         No   \n",
              "..                          ...                          ...        ...   \n",
              "71                    Euthyroid   Single nodular goiter-left         No   \n",
              "106                   Euthyroid          Multinodular goiter         No   \n",
              "270                   Euthyroid   Single nodular goiter-left         No   \n",
              "348  Subclinical Hypothyroidism          Multinodular goiter  Extensive   \n",
              "102                   Euthyroid  Single nodular goiter-right         No   \n",
              "\n",
              "      Pathology     Focality          Risk    T    N   M Stage  \\\n",
              "335   Papillary  Multi-Focal  Intermediate  T3a  N1b  M0     I   \n",
              "140   Papillary    Uni-Focal           Low   T2   N0  M0     I   \n",
              "132   Papillary    Uni-Focal           Low   T2   N0  M0     I   \n",
              "253  Follicular  Multi-Focal           Low  T3a   N0  M0     I   \n",
              "153   Papillary    Uni-Focal           Low   T2   N0  M0     I   \n",
              "..          ...          ...           ...  ...  ...  ..   ...   \n",
              "71    Papillary    Uni-Focal           Low  T1b   N0  M0     I   \n",
              "106   Papillary    Uni-Focal           Low   T2   N0  M0     I   \n",
              "270   Papillary    Uni-Focal           Low  T3a   N0  M0     I   \n",
              "348   Papillary  Multi-Focal  Intermediate  T3b  N1b  M0    II   \n",
              "102  Follicular    Uni-Focal           Low   T2   N0  M0     I   \n",
              "\n",
              "                   Response  \n",
              "335   Structural Incomplete  \n",
              "140               Excellent  \n",
              "132               Excellent  \n",
              "253  Biochemical Incomplete  \n",
              "153  Biochemical Incomplete  \n",
              "..                      ...  \n",
              "71                Excellent  \n",
              "106               Excellent  \n",
              "270           Indeterminate  \n",
              "348   Structural Incomplete  \n",
              "102               Excellent  \n",
              "\n",
              "[268 rows x 16 columns]"
            ],
            "text/html": [
              "\n",
              "  <div id=\"df-764f799e-4e4c-46e9-8784-bdb2712b0612\" class=\"colab-df-container\">\n",
              "    <div>\n",
              "<style scoped>\n",
              "    .dataframe tbody tr th:only-of-type {\n",
              "        vertical-align: middle;\n",
              "    }\n",
              "\n",
              "    .dataframe tbody tr th {\n",
              "        vertical-align: top;\n",
              "    }\n",
              "\n",
              "    .dataframe thead th {\n",
              "        text-align: right;\n",
              "    }\n",
              "</style>\n",
              "<table border=\"1\" class=\"dataframe\">\n",
              "  <thead>\n",
              "    <tr style=\"text-align: right;\">\n",
              "      <th></th>\n",
              "      <th>Age</th>\n",
              "      <th>Gender</th>\n",
              "      <th>Smoking</th>\n",
              "      <th>Hx Smoking</th>\n",
              "      <th>Hx Radiothreapy</th>\n",
              "      <th>Thyroid Function</th>\n",
              "      <th>Physical Examination</th>\n",
              "      <th>Adenopathy</th>\n",
              "      <th>Pathology</th>\n",
              "      <th>Focality</th>\n",
              "      <th>Risk</th>\n",
              "      <th>T</th>\n",
              "      <th>N</th>\n",
              "      <th>M</th>\n",
              "      <th>Stage</th>\n",
              "      <th>Response</th>\n",
              "    </tr>\n",
              "  </thead>\n",
              "  <tbody>\n",
              "    <tr>\n",
              "      <th>335</th>\n",
              "      <td>-0.796292</td>\n",
              "      <td>M</td>\n",
              "      <td>No</td>\n",
              "      <td>No</td>\n",
              "      <td>No</td>\n",
              "      <td>Euthyroid</td>\n",
              "      <td>Multinodular goiter</td>\n",
              "      <td>Extensive</td>\n",
              "      <td>Papillary</td>\n",
              "      <td>Multi-Focal</td>\n",
              "      <td>Intermediate</td>\n",
              "      <td>T3a</td>\n",
              "      <td>N1b</td>\n",
              "      <td>M0</td>\n",
              "      <td>I</td>\n",
              "      <td>Structural Incomplete</td>\n",
              "    </tr>\n",
              "    <tr>\n",
              "      <th>140</th>\n",
              "      <td>-0.861915</td>\n",
              "      <td>F</td>\n",
              "      <td>No</td>\n",
              "      <td>No</td>\n",
              "      <td>No</td>\n",
              "      <td>Euthyroid</td>\n",
              "      <td>Multinodular goiter</td>\n",
              "      <td>No</td>\n",
              "      <td>Papillary</td>\n",
              "      <td>Uni-Focal</td>\n",
              "      <td>Low</td>\n",
              "      <td>T2</td>\n",
              "      <td>N0</td>\n",
              "      <td>M0</td>\n",
              "      <td>I</td>\n",
              "      <td>Excellent</td>\n",
              "    </tr>\n",
              "    <tr>\n",
              "      <th>132</th>\n",
              "      <td>-0.599423</td>\n",
              "      <td>F</td>\n",
              "      <td>No</td>\n",
              "      <td>No</td>\n",
              "      <td>No</td>\n",
              "      <td>Euthyroid</td>\n",
              "      <td>Single nodular goiter-right</td>\n",
              "      <td>No</td>\n",
              "      <td>Papillary</td>\n",
              "      <td>Uni-Focal</td>\n",
              "      <td>Low</td>\n",
              "      <td>T2</td>\n",
              "      <td>N0</td>\n",
              "      <td>M0</td>\n",
              "      <td>I</td>\n",
              "      <td>Excellent</td>\n",
              "    </tr>\n",
              "    <tr>\n",
              "      <th>253</th>\n",
              "      <td>-0.205684</td>\n",
              "      <td>F</td>\n",
              "      <td>No</td>\n",
              "      <td>No</td>\n",
              "      <td>No</td>\n",
              "      <td>Euthyroid</td>\n",
              "      <td>Multinodular goiter</td>\n",
              "      <td>No</td>\n",
              "      <td>Follicular</td>\n",
              "      <td>Multi-Focal</td>\n",
              "      <td>Low</td>\n",
              "      <td>T3a</td>\n",
              "      <td>N0</td>\n",
              "      <td>M0</td>\n",
              "      <td>I</td>\n",
              "      <td>Biochemical Incomplete</td>\n",
              "    </tr>\n",
              "    <tr>\n",
              "      <th>153</th>\n",
              "      <td>1.434892</td>\n",
              "      <td>F</td>\n",
              "      <td>No</td>\n",
              "      <td>No</td>\n",
              "      <td>No</td>\n",
              "      <td>Euthyroid</td>\n",
              "      <td>Normal</td>\n",
              "      <td>No</td>\n",
              "      <td>Papillary</td>\n",
              "      <td>Uni-Focal</td>\n",
              "      <td>Low</td>\n",
              "      <td>T2</td>\n",
              "      <td>N0</td>\n",
              "      <td>M0</td>\n",
              "      <td>I</td>\n",
              "      <td>Biochemical Incomplete</td>\n",
              "    </tr>\n",
              "    <tr>\n",
              "      <th>...</th>\n",
              "      <td>...</td>\n",
              "      <td>...</td>\n",
              "      <td>...</td>\n",
              "      <td>...</td>\n",
              "      <td>...</td>\n",
              "      <td>...</td>\n",
              "      <td>...</td>\n",
              "      <td>...</td>\n",
              "      <td>...</td>\n",
              "      <td>...</td>\n",
              "      <td>...</td>\n",
              "      <td>...</td>\n",
              "      <td>...</td>\n",
              "      <td>...</td>\n",
              "      <td>...</td>\n",
              "      <td>...</td>\n",
              "    </tr>\n",
              "    <tr>\n",
              "      <th>71</th>\n",
              "      <td>1.828631</td>\n",
              "      <td>F</td>\n",
              "      <td>No</td>\n",
              "      <td>No</td>\n",
              "      <td>No</td>\n",
              "      <td>Euthyroid</td>\n",
              "      <td>Single nodular goiter-left</td>\n",
              "      <td>No</td>\n",
              "      <td>Papillary</td>\n",
              "      <td>Uni-Focal</td>\n",
              "      <td>Low</td>\n",
              "      <td>T1b</td>\n",
              "      <td>N0</td>\n",
              "      <td>M0</td>\n",
              "      <td>I</td>\n",
              "      <td>Excellent</td>\n",
              "    </tr>\n",
              "    <tr>\n",
              "      <th>106</th>\n",
              "      <td>-0.993161</td>\n",
              "      <td>F</td>\n",
              "      <td>No</td>\n",
              "      <td>No</td>\n",
              "      <td>No</td>\n",
              "      <td>Euthyroid</td>\n",
              "      <td>Multinodular goiter</td>\n",
              "      <td>No</td>\n",
              "      <td>Papillary</td>\n",
              "      <td>Uni-Focal</td>\n",
              "      <td>Low</td>\n",
              "      <td>T2</td>\n",
              "      <td>N0</td>\n",
              "      <td>M0</td>\n",
              "      <td>I</td>\n",
              "      <td>Excellent</td>\n",
              "    </tr>\n",
              "    <tr>\n",
              "      <th>270</th>\n",
              "      <td>-0.140061</td>\n",
              "      <td>F</td>\n",
              "      <td>No</td>\n",
              "      <td>No</td>\n",
              "      <td>No</td>\n",
              "      <td>Euthyroid</td>\n",
              "      <td>Single nodular goiter-left</td>\n",
              "      <td>No</td>\n",
              "      <td>Papillary</td>\n",
              "      <td>Uni-Focal</td>\n",
              "      <td>Low</td>\n",
              "      <td>T3a</td>\n",
              "      <td>N0</td>\n",
              "      <td>M0</td>\n",
              "      <td>I</td>\n",
              "      <td>Indeterminate</td>\n",
              "    </tr>\n",
              "    <tr>\n",
              "      <th>348</th>\n",
              "      <td>1.106777</td>\n",
              "      <td>F</td>\n",
              "      <td>No</td>\n",
              "      <td>No</td>\n",
              "      <td>No</td>\n",
              "      <td>Subclinical Hypothyroidism</td>\n",
              "      <td>Multinodular goiter</td>\n",
              "      <td>Extensive</td>\n",
              "      <td>Papillary</td>\n",
              "      <td>Multi-Focal</td>\n",
              "      <td>Intermediate</td>\n",
              "      <td>T3b</td>\n",
              "      <td>N1b</td>\n",
              "      <td>M0</td>\n",
              "      <td>II</td>\n",
              "      <td>Structural Incomplete</td>\n",
              "    </tr>\n",
              "    <tr>\n",
              "      <th>102</th>\n",
              "      <td>-0.927538</td>\n",
              "      <td>F</td>\n",
              "      <td>No</td>\n",
              "      <td>No</td>\n",
              "      <td>No</td>\n",
              "      <td>Euthyroid</td>\n",
              "      <td>Single nodular goiter-right</td>\n",
              "      <td>No</td>\n",
              "      <td>Follicular</td>\n",
              "      <td>Uni-Focal</td>\n",
              "      <td>Low</td>\n",
              "      <td>T2</td>\n",
              "      <td>N0</td>\n",
              "      <td>M0</td>\n",
              "      <td>I</td>\n",
              "      <td>Excellent</td>\n",
              "    </tr>\n",
              "  </tbody>\n",
              "</table>\n",
              "<p>268 rows × 16 columns</p>\n",
              "</div>\n",
              "    <div class=\"colab-df-buttons\">\n",
              "\n",
              "  <div class=\"colab-df-container\">\n",
              "    <button class=\"colab-df-convert\" onclick=\"convertToInteractive('df-764f799e-4e4c-46e9-8784-bdb2712b0612')\"\n",
              "            title=\"Convert this dataframe to an interactive table.\"\n",
              "            style=\"display:none;\">\n",
              "\n",
              "  <svg xmlns=\"http://www.w3.org/2000/svg\" height=\"24px\" viewBox=\"0 -960 960 960\">\n",
              "    <path d=\"M120-120v-720h720v720H120Zm60-500h600v-160H180v160Zm220 220h160v-160H400v160Zm0 220h160v-160H400v160ZM180-400h160v-160H180v160Zm440 0h160v-160H620v160ZM180-180h160v-160H180v160Zm440 0h160v-160H620v160Z\"/>\n",
              "  </svg>\n",
              "    </button>\n",
              "\n",
              "  <style>\n",
              "    .colab-df-container {\n",
              "      display:flex;\n",
              "      gap: 12px;\n",
              "    }\n",
              "\n",
              "    .colab-df-convert {\n",
              "      background-color: #E8F0FE;\n",
              "      border: none;\n",
              "      border-radius: 50%;\n",
              "      cursor: pointer;\n",
              "      display: none;\n",
              "      fill: #1967D2;\n",
              "      height: 32px;\n",
              "      padding: 0 0 0 0;\n",
              "      width: 32px;\n",
              "    }\n",
              "\n",
              "    .colab-df-convert:hover {\n",
              "      background-color: #E2EBFA;\n",
              "      box-shadow: 0px 1px 2px rgba(60, 64, 67, 0.3), 0px 1px 3px 1px rgba(60, 64, 67, 0.15);\n",
              "      fill: #174EA6;\n",
              "    }\n",
              "\n",
              "    .colab-df-buttons div {\n",
              "      margin-bottom: 4px;\n",
              "    }\n",
              "\n",
              "    [theme=dark] .colab-df-convert {\n",
              "      background-color: #3B4455;\n",
              "      fill: #D2E3FC;\n",
              "    }\n",
              "\n",
              "    [theme=dark] .colab-df-convert:hover {\n",
              "      background-color: #434B5C;\n",
              "      box-shadow: 0px 1px 3px 1px rgba(0, 0, 0, 0.15);\n",
              "      filter: drop-shadow(0px 1px 2px rgba(0, 0, 0, 0.3));\n",
              "      fill: #FFFFFF;\n",
              "    }\n",
              "  </style>\n",
              "\n",
              "    <script>\n",
              "      const buttonEl =\n",
              "        document.querySelector('#df-764f799e-4e4c-46e9-8784-bdb2712b0612 button.colab-df-convert');\n",
              "      buttonEl.style.display =\n",
              "        google.colab.kernel.accessAllowed ? 'block' : 'none';\n",
              "\n",
              "      async function convertToInteractive(key) {\n",
              "        const element = document.querySelector('#df-764f799e-4e4c-46e9-8784-bdb2712b0612');\n",
              "        const dataTable =\n",
              "          await google.colab.kernel.invokeFunction('convertToInteractive',\n",
              "                                                    [key], {});\n",
              "        if (!dataTable) return;\n",
              "\n",
              "        const docLinkHtml = 'Like what you see? Visit the ' +\n",
              "          '<a target=\"_blank\" href=https://colab.research.google.com/notebooks/data_table.ipynb>data table notebook</a>'\n",
              "          + ' to learn more about interactive tables.';\n",
              "        element.innerHTML = '';\n",
              "        dataTable['output_type'] = 'display_data';\n",
              "        await google.colab.output.renderOutput(dataTable, element);\n",
              "        const docLink = document.createElement('div');\n",
              "        docLink.innerHTML = docLinkHtml;\n",
              "        element.appendChild(docLink);\n",
              "      }\n",
              "    </script>\n",
              "  </div>\n",
              "\n",
              "\n",
              "<div id=\"df-0c7e5c33-a7e6-46a4-ac68-541861648cb1\">\n",
              "  <button class=\"colab-df-quickchart\" onclick=\"quickchart('df-0c7e5c33-a7e6-46a4-ac68-541861648cb1')\"\n",
              "            title=\"Suggest charts\"\n",
              "            style=\"display:none;\">\n",
              "\n",
              "<svg xmlns=\"http://www.w3.org/2000/svg\" height=\"24px\"viewBox=\"0 0 24 24\"\n",
              "     width=\"24px\">\n",
              "    <g>\n",
              "        <path d=\"M19 3H5c-1.1 0-2 .9-2 2v14c0 1.1.9 2 2 2h14c1.1 0 2-.9 2-2V5c0-1.1-.9-2-2-2zM9 17H7v-7h2v7zm4 0h-2V7h2v10zm4 0h-2v-4h2v4z\"/>\n",
              "    </g>\n",
              "</svg>\n",
              "  </button>\n",
              "\n",
              "<style>\n",
              "  .colab-df-quickchart {\n",
              "      --bg-color: #E8F0FE;\n",
              "      --fill-color: #1967D2;\n",
              "      --hover-bg-color: #E2EBFA;\n",
              "      --hover-fill-color: #174EA6;\n",
              "      --disabled-fill-color: #AAA;\n",
              "      --disabled-bg-color: #DDD;\n",
              "  }\n",
              "\n",
              "  [theme=dark] .colab-df-quickchart {\n",
              "      --bg-color: #3B4455;\n",
              "      --fill-color: #D2E3FC;\n",
              "      --hover-bg-color: #434B5C;\n",
              "      --hover-fill-color: #FFFFFF;\n",
              "      --disabled-bg-color: #3B4455;\n",
              "      --disabled-fill-color: #666;\n",
              "  }\n",
              "\n",
              "  .colab-df-quickchart {\n",
              "    background-color: var(--bg-color);\n",
              "    border: none;\n",
              "    border-radius: 50%;\n",
              "    cursor: pointer;\n",
              "    display: none;\n",
              "    fill: var(--fill-color);\n",
              "    height: 32px;\n",
              "    padding: 0;\n",
              "    width: 32px;\n",
              "  }\n",
              "\n",
              "  .colab-df-quickchart:hover {\n",
              "    background-color: var(--hover-bg-color);\n",
              "    box-shadow: 0 1px 2px rgba(60, 64, 67, 0.3), 0 1px 3px 1px rgba(60, 64, 67, 0.15);\n",
              "    fill: var(--button-hover-fill-color);\n",
              "  }\n",
              "\n",
              "  .colab-df-quickchart-complete:disabled,\n",
              "  .colab-df-quickchart-complete:disabled:hover {\n",
              "    background-color: var(--disabled-bg-color);\n",
              "    fill: var(--disabled-fill-color);\n",
              "    box-shadow: none;\n",
              "  }\n",
              "\n",
              "  .colab-df-spinner {\n",
              "    border: 2px solid var(--fill-color);\n",
              "    border-color: transparent;\n",
              "    border-bottom-color: var(--fill-color);\n",
              "    animation:\n",
              "      spin 1s steps(1) infinite;\n",
              "  }\n",
              "\n",
              "  @keyframes spin {\n",
              "    0% {\n",
              "      border-color: transparent;\n",
              "      border-bottom-color: var(--fill-color);\n",
              "      border-left-color: var(--fill-color);\n",
              "    }\n",
              "    20% {\n",
              "      border-color: transparent;\n",
              "      border-left-color: var(--fill-color);\n",
              "      border-top-color: var(--fill-color);\n",
              "    }\n",
              "    30% {\n",
              "      border-color: transparent;\n",
              "      border-left-color: var(--fill-color);\n",
              "      border-top-color: var(--fill-color);\n",
              "      border-right-color: var(--fill-color);\n",
              "    }\n",
              "    40% {\n",
              "      border-color: transparent;\n",
              "      border-right-color: var(--fill-color);\n",
              "      border-top-color: var(--fill-color);\n",
              "    }\n",
              "    60% {\n",
              "      border-color: transparent;\n",
              "      border-right-color: var(--fill-color);\n",
              "    }\n",
              "    80% {\n",
              "      border-color: transparent;\n",
              "      border-right-color: var(--fill-color);\n",
              "      border-bottom-color: var(--fill-color);\n",
              "    }\n",
              "    90% {\n",
              "      border-color: transparent;\n",
              "      border-bottom-color: var(--fill-color);\n",
              "    }\n",
              "  }\n",
              "</style>\n",
              "\n",
              "  <script>\n",
              "    async function quickchart(key) {\n",
              "      const quickchartButtonEl =\n",
              "        document.querySelector('#' + key + ' button');\n",
              "      quickchartButtonEl.disabled = true;  // To prevent multiple clicks.\n",
              "      quickchartButtonEl.classList.add('colab-df-spinner');\n",
              "      try {\n",
              "        const charts = await google.colab.kernel.invokeFunction(\n",
              "            'suggestCharts', [key], {});\n",
              "      } catch (error) {\n",
              "        console.error('Error during call to suggestCharts:', error);\n",
              "      }\n",
              "      quickchartButtonEl.classList.remove('colab-df-spinner');\n",
              "      quickchartButtonEl.classList.add('colab-df-quickchart-complete');\n",
              "    }\n",
              "    (() => {\n",
              "      let quickchartButtonEl =\n",
              "        document.querySelector('#df-0c7e5c33-a7e6-46a4-ac68-541861648cb1 button');\n",
              "      quickchartButtonEl.style.display =\n",
              "        google.colab.kernel.accessAllowed ? 'block' : 'none';\n",
              "    })();\n",
              "  </script>\n",
              "</div>\n",
              "\n",
              "  <div id=\"id_7066f8e4-923f-4d4e-a346-5069029b1350\">\n",
              "    <style>\n",
              "      .colab-df-generate {\n",
              "        background-color: #E8F0FE;\n",
              "        border: none;\n",
              "        border-radius: 50%;\n",
              "        cursor: pointer;\n",
              "        display: none;\n",
              "        fill: #1967D2;\n",
              "        height: 32px;\n",
              "        padding: 0 0 0 0;\n",
              "        width: 32px;\n",
              "      }\n",
              "\n",
              "      .colab-df-generate:hover {\n",
              "        background-color: #E2EBFA;\n",
              "        box-shadow: 0px 1px 2px rgba(60, 64, 67, 0.3), 0px 1px 3px 1px rgba(60, 64, 67, 0.15);\n",
              "        fill: #174EA6;\n",
              "      }\n",
              "\n",
              "      [theme=dark] .colab-df-generate {\n",
              "        background-color: #3B4455;\n",
              "        fill: #D2E3FC;\n",
              "      }\n",
              "\n",
              "      [theme=dark] .colab-df-generate:hover {\n",
              "        background-color: #434B5C;\n",
              "        box-shadow: 0px 1px 3px 1px rgba(0, 0, 0, 0.15);\n",
              "        filter: drop-shadow(0px 1px 2px rgba(0, 0, 0, 0.3));\n",
              "        fill: #FFFFFF;\n",
              "      }\n",
              "    </style>\n",
              "    <button class=\"colab-df-generate\" onclick=\"generateWithVariable('X_train')\"\n",
              "            title=\"Generate code using this dataframe.\"\n",
              "            style=\"display:none;\">\n",
              "\n",
              "  <svg xmlns=\"http://www.w3.org/2000/svg\" height=\"24px\"viewBox=\"0 0 24 24\"\n",
              "       width=\"24px\">\n",
              "    <path d=\"M7,19H8.4L18.45,9,17,7.55,7,17.6ZM5,21V16.75L18.45,3.32a2,2,0,0,1,2.83,0l1.4,1.43a1.91,1.91,0,0,1,.58,1.4,1.91,1.91,0,0,1-.58,1.4L9.25,21ZM18.45,9,17,7.55Zm-12,3A5.31,5.31,0,0,0,4.9,8.1,5.31,5.31,0,0,0,1,6.5,5.31,5.31,0,0,0,4.9,4.9,5.31,5.31,0,0,0,6.5,1,5.31,5.31,0,0,0,8.1,4.9,5.31,5.31,0,0,0,12,6.5,5.46,5.46,0,0,0,6.5,12Z\"/>\n",
              "  </svg>\n",
              "    </button>\n",
              "    <script>\n",
              "      (() => {\n",
              "      const buttonEl =\n",
              "        document.querySelector('#id_7066f8e4-923f-4d4e-a346-5069029b1350 button.colab-df-generate');\n",
              "      buttonEl.style.display =\n",
              "        google.colab.kernel.accessAllowed ? 'block' : 'none';\n",
              "\n",
              "      buttonEl.onclick = () => {\n",
              "        google.colab.notebook.generateWithVariable('X_train');\n",
              "      }\n",
              "      })();\n",
              "    </script>\n",
              "  </div>\n",
              "\n",
              "    </div>\n",
              "  </div>\n"
            ],
            "application/vnd.google.colaboratory.intrinsic+json": {
              "type": "dataframe",
              "variable_name": "X_train",
              "summary": "{\n  \"name\": \"X_train\",\n  \"rows\": 268,\n  \"fields\": [\n    {\n      \"column\": \"Age\",\n      \"properties\": {\n        \"dtype\": \"number\",\n        \"std\": 1.0018709090257387,\n        \"min\": -1.5837683975672447,\n        \"max\": 2.681730286047691,\n        \"num_unique_values\": 60,\n        \"samples\": [\n          -0.7962917175152566,\n          -0.5337994908312605,\n          -0.4025533774892625\n        ],\n        \"semantic_type\": \"\",\n        \"description\": \"\"\n      }\n    },\n    {\n      \"column\": \"Gender\",\n      \"properties\": {\n        \"dtype\": \"category\",\n        \"num_unique_values\": 2,\n        \"samples\": [\n          \"F\",\n          \"M\"\n        ],\n        \"semantic_type\": \"\",\n        \"description\": \"\"\n      }\n    },\n    {\n      \"column\": \"Smoking\",\n      \"properties\": {\n        \"dtype\": \"category\",\n        \"num_unique_values\": 2,\n        \"samples\": [\n          \"Yes\",\n          \"No\"\n        ],\n        \"semantic_type\": \"\",\n        \"description\": \"\"\n      }\n    },\n    {\n      \"column\": \"Hx Smoking\",\n      \"properties\": {\n        \"dtype\": \"category\",\n        \"num_unique_values\": 2,\n        \"samples\": [\n          \"Yes\",\n          \"No\"\n        ],\n        \"semantic_type\": \"\",\n        \"description\": \"\"\n      }\n    },\n    {\n      \"column\": \"Hx Radiothreapy\",\n      \"properties\": {\n        \"dtype\": \"category\",\n        \"num_unique_values\": 2,\n        \"samples\": [\n          \"Yes\",\n          \"No\"\n        ],\n        \"semantic_type\": \"\",\n        \"description\": \"\"\n      }\n    },\n    {\n      \"column\": \"Thyroid Function\",\n      \"properties\": {\n        \"dtype\": \"category\",\n        \"num_unique_values\": 5,\n        \"samples\": [\n          \"Clinical Hypothyroidism\",\n          \"Subclinical Hyperthyroidism\"\n        ],\n        \"semantic_type\": \"\",\n        \"description\": \"\"\n      }\n    },\n    {\n      \"column\": \"Physical Examination\",\n      \"properties\": {\n        \"dtype\": \"category\",\n        \"num_unique_values\": 5,\n        \"samples\": [\n          \"Single nodular goiter-right\",\n          \"Diffuse goiter\"\n        ],\n        \"semantic_type\": \"\",\n        \"description\": \"\"\n      }\n    },\n    {\n      \"column\": \"Adenopathy\",\n      \"properties\": {\n        \"dtype\": \"category\",\n        \"num_unique_values\": 6,\n        \"samples\": [\n          \"Extensive\",\n          \"No\"\n        ],\n        \"semantic_type\": \"\",\n        \"description\": \"\"\n      }\n    },\n    {\n      \"column\": \"Pathology\",\n      \"properties\": {\n        \"dtype\": \"category\",\n        \"num_unique_values\": 4,\n        \"samples\": [\n          \"Follicular\",\n          \"Micropapillary\"\n        ],\n        \"semantic_type\": \"\",\n        \"description\": \"\"\n      }\n    },\n    {\n      \"column\": \"Focality\",\n      \"properties\": {\n        \"dtype\": \"category\",\n        \"num_unique_values\": 2,\n        \"samples\": [\n          \"Uni-Focal\",\n          \"Multi-Focal\"\n        ],\n        \"semantic_type\": \"\",\n        \"description\": \"\"\n      }\n    },\n    {\n      \"column\": \"Risk\",\n      \"properties\": {\n        \"dtype\": \"category\",\n        \"num_unique_values\": 3,\n        \"samples\": [\n          \"Intermediate\",\n          \"Low\"\n        ],\n        \"semantic_type\": \"\",\n        \"description\": \"\"\n      }\n    },\n    {\n      \"column\": \"T\",\n      \"properties\": {\n        \"dtype\": \"category\",\n        \"num_unique_values\": 7,\n        \"samples\": [\n          \"T3a\",\n          \"T2\"\n        ],\n        \"semantic_type\": \"\",\n        \"description\": \"\"\n      }\n    },\n    {\n      \"column\": \"N\",\n      \"properties\": {\n        \"dtype\": \"category\",\n        \"num_unique_values\": 3,\n        \"samples\": [\n          \"N1b\",\n          \"N0\"\n        ],\n        \"semantic_type\": \"\",\n        \"description\": \"\"\n      }\n    },\n    {\n      \"column\": \"M\",\n      \"properties\": {\n        \"dtype\": \"category\",\n        \"num_unique_values\": 2,\n        \"samples\": [\n          \"M1\",\n          \"M0\"\n        ],\n        \"semantic_type\": \"\",\n        \"description\": \"\"\n      }\n    },\n    {\n      \"column\": \"Stage\",\n      \"properties\": {\n        \"dtype\": \"category\",\n        \"num_unique_values\": 5,\n        \"samples\": [\n          \"IVB\",\n          \"IVA\"\n        ],\n        \"semantic_type\": \"\",\n        \"description\": \"\"\n      }\n    },\n    {\n      \"column\": \"Response\",\n      \"properties\": {\n        \"dtype\": \"category\",\n        \"num_unique_values\": 4,\n        \"samples\": [\n          \"Excellent\",\n          \"Indeterminate\"\n        ],\n        \"semantic_type\": \"\",\n        \"description\": \"\"\n      }\n    }\n  ]\n}"
            }
          },
          "metadata": {},
          "execution_count": 17
        }
      ]
    },
    {
      "cell_type": "markdown",
      "id": "68672b94",
      "metadata": {
        "papermill": {
          "duration": 0.016248,
          "end_time": "2024-05-24T20:52:14.111543",
          "exception": false,
          "start_time": "2024-05-24T20:52:14.095295",
          "status": "completed"
        },
        "tags": [],
        "id": "68672b94"
      },
      "source": [
        "## 2.3 Encoding Categorical Features"
      ]
    },
    {
      "cell_type": "markdown",
      "id": "470c255e",
      "metadata": {
        "papermill": {
          "duration": 0.016103,
          "end_time": "2024-05-24T20:52:14.143962",
          "exception": false,
          "start_time": "2024-05-24T20:52:14.127859",
          "status": "completed"
        },
        "tags": [],
        "id": "470c255e"
      },
      "source": [
        "I need to encode the categorical features before I compare classification models. I'll use Label Encoder to do this, although I think on this dataset One-Hot Encoding is totally suitable as well."
      ]
    },
    {
      "cell_type": "code",
      "execution_count": null,
      "id": "e661c355",
      "metadata": {
        "_kg_hide-input": true,
        "execution": {
          "iopub.execute_input": "2024-05-24T20:52:14.178894Z",
          "iopub.status.busy": "2024-05-24T20:52:14.178478Z",
          "iopub.status.idle": "2024-05-24T20:52:14.201097Z",
          "shell.execute_reply": "2024-05-24T20:52:14.200182Z"
        },
        "papermill": {
          "duration": 0.042981,
          "end_time": "2024-05-24T20:52:14.203301",
          "exception": false,
          "start_time": "2024-05-24T20:52:14.160320",
          "status": "completed"
        },
        "tags": [],
        "id": "e661c355"
      },
      "outputs": [],
      "source": [
        "label_encoder = LabelEncoder()\n",
        "y_train = label_encoder.fit_transform(y_train)#we use labelencoder to convert categorical data to numeric value\n",
        "object_columns = X_train.select_dtypes(include=['object']).columns\n",
        "for column in object_columns:\n",
        "    X_train[column] = label_encoder.fit_transform(X_train[column])#we use labelencoder to convert categorical data to numeric value\n",
        "\n",
        "y_test = label_encoder.fit_transform(y_test)#we use labelencoder to convert categorical data to numeric value\n",
        "object_columns = X_test.select_dtypes(include=['object']).columns\n",
        "for column in object_columns:\n",
        "    X_test[column] = label_encoder.fit_transform(X_test[column])#we use labelencoder to convert categorical data to numeric value"
      ]
    },
    {
      "cell_type": "code",
      "execution_count": null,
      "id": "78a5c271",
      "metadata": {
        "_kg_hide-input": true,
        "execution": {
          "iopub.execute_input": "2024-05-24T20:52:14.239444Z",
          "iopub.status.busy": "2024-05-24T20:52:14.238935Z",
          "iopub.status.idle": "2024-05-24T20:52:14.254293Z",
          "shell.execute_reply": "2024-05-24T20:52:14.253203Z"
        },
        "papermill": {
          "duration": 0.0361,
          "end_time": "2024-05-24T20:52:14.256381",
          "exception": false,
          "start_time": "2024-05-24T20:52:14.220281",
          "status": "completed"
        },
        "tags": [],
        "id": "78a5c271",
        "outputId": "a60fb058-836a-46e8-d4a8-e0e394f9e342"
      },
      "outputs": [
        {
          "data": {
            "text/html": [
              "<div>\n",
              "<style scoped>\n",
              "    .dataframe tbody tr th:only-of-type {\n",
              "        vertical-align: middle;\n",
              "    }\n",
              "\n",
              "    .dataframe tbody tr th {\n",
              "        vertical-align: top;\n",
              "    }\n",
              "\n",
              "    .dataframe thead th {\n",
              "        text-align: right;\n",
              "    }\n",
              "</style>\n",
              "<table border=\"1\" class=\"dataframe\">\n",
              "  <thead>\n",
              "    <tr style=\"text-align: right;\">\n",
              "      <th></th>\n",
              "      <th>Age</th>\n",
              "      <th>Gender</th>\n",
              "      <th>Smoking</th>\n",
              "      <th>Hx Smoking</th>\n",
              "      <th>Hx Radiothreapy</th>\n",
              "      <th>Thyroid Function</th>\n",
              "      <th>Physical Examination</th>\n",
              "      <th>Adenopathy</th>\n",
              "      <th>Pathology</th>\n",
              "      <th>Focality</th>\n",
              "      <th>Risk</th>\n",
              "      <th>T</th>\n",
              "      <th>N</th>\n",
              "      <th>M</th>\n",
              "      <th>Stage</th>\n",
              "      <th>Response</th>\n",
              "    </tr>\n",
              "  </thead>\n",
              "  <tbody>\n",
              "    <tr>\n",
              "      <th>335</th>\n",
              "      <td>-0.796292</td>\n",
              "      <td>1</td>\n",
              "      <td>0</td>\n",
              "      <td>0</td>\n",
              "      <td>0</td>\n",
              "      <td>2</td>\n",
              "      <td>1</td>\n",
              "      <td>1</td>\n",
              "      <td>3</td>\n",
              "      <td>0</td>\n",
              "      <td>1</td>\n",
              "      <td>3</td>\n",
              "      <td>2</td>\n",
              "      <td>0</td>\n",
              "      <td>0</td>\n",
              "      <td>3</td>\n",
              "    </tr>\n",
              "    <tr>\n",
              "      <th>140</th>\n",
              "      <td>-0.861915</td>\n",
              "      <td>0</td>\n",
              "      <td>0</td>\n",
              "      <td>0</td>\n",
              "      <td>0</td>\n",
              "      <td>2</td>\n",
              "      <td>1</td>\n",
              "      <td>3</td>\n",
              "      <td>3</td>\n",
              "      <td>1</td>\n",
              "      <td>2</td>\n",
              "      <td>2</td>\n",
              "      <td>0</td>\n",
              "      <td>0</td>\n",
              "      <td>0</td>\n",
              "      <td>1</td>\n",
              "    </tr>\n",
              "    <tr>\n",
              "      <th>132</th>\n",
              "      <td>-0.599423</td>\n",
              "      <td>0</td>\n",
              "      <td>0</td>\n",
              "      <td>0</td>\n",
              "      <td>0</td>\n",
              "      <td>2</td>\n",
              "      <td>4</td>\n",
              "      <td>3</td>\n",
              "      <td>3</td>\n",
              "      <td>1</td>\n",
              "      <td>2</td>\n",
              "      <td>2</td>\n",
              "      <td>0</td>\n",
              "      <td>0</td>\n",
              "      <td>0</td>\n",
              "      <td>1</td>\n",
              "    </tr>\n",
              "    <tr>\n",
              "      <th>253</th>\n",
              "      <td>-0.205684</td>\n",
              "      <td>0</td>\n",
              "      <td>0</td>\n",
              "      <td>0</td>\n",
              "      <td>0</td>\n",
              "      <td>2</td>\n",
              "      <td>1</td>\n",
              "      <td>3</td>\n",
              "      <td>0</td>\n",
              "      <td>0</td>\n",
              "      <td>2</td>\n",
              "      <td>3</td>\n",
              "      <td>0</td>\n",
              "      <td>0</td>\n",
              "      <td>0</td>\n",
              "      <td>0</td>\n",
              "    </tr>\n",
              "    <tr>\n",
              "      <th>153</th>\n",
              "      <td>1.434892</td>\n",
              "      <td>0</td>\n",
              "      <td>0</td>\n",
              "      <td>0</td>\n",
              "      <td>0</td>\n",
              "      <td>2</td>\n",
              "      <td>2</td>\n",
              "      <td>3</td>\n",
              "      <td>3</td>\n",
              "      <td>1</td>\n",
              "      <td>2</td>\n",
              "      <td>2</td>\n",
              "      <td>0</td>\n",
              "      <td>0</td>\n",
              "      <td>0</td>\n",
              "      <td>0</td>\n",
              "    </tr>\n",
              "  </tbody>\n",
              "</table>\n",
              "</div>"
            ],
            "text/plain": [
              "          Age  Gender  Smoking  Hx Smoking  Hx Radiothreapy  Thyroid Function  \\\n",
              "335 -0.796292       1        0           0                0                 2   \n",
              "140 -0.861915       0        0           0                0                 2   \n",
              "132 -0.599423       0        0           0                0                 2   \n",
              "253 -0.205684       0        0           0                0                 2   \n",
              "153  1.434892       0        0           0                0                 2   \n",
              "\n",
              "     Physical Examination  Adenopathy  Pathology  Focality  Risk  T  N  M  \\\n",
              "335                     1           1          3         0     1  3  2  0   \n",
              "140                     1           3          3         1     2  2  0  0   \n",
              "132                     4           3          3         1     2  2  0  0   \n",
              "253                     1           3          0         0     2  3  0  0   \n",
              "153                     2           3          3         1     2  2  0  0   \n",
              "\n",
              "     Stage  Response  \n",
              "335      0         3  \n",
              "140      0         1  \n",
              "132      0         1  \n",
              "253      0         0  \n",
              "153      0         0  "
            ]
          },
          "execution_count": 17,
          "metadata": {},
          "output_type": "execute_result"
        }
      ],
      "source": [
        "X_train.head()"
      ]
    },
    {
      "cell_type": "markdown",
      "id": "49513580",
      "metadata": {
        "papermill": {
          "duration": 0.016685,
          "end_time": "2024-05-24T20:52:14.290894",
          "exception": false,
          "start_time": "2024-05-24T20:52:14.274209",
          "status": "completed"
        },
        "tags": [],
        "id": "49513580"
      },
      "source": [
        "The data is encoded correctly. We can see this above, all of the object datatypes have been converted to int."
      ]
    },
    {
      "cell_type": "code",
      "execution_count": null,
      "id": "50186de0",
      "metadata": {
        "_kg_hide-input": true,
        "execution": {
          "iopub.execute_input": "2024-05-24T20:52:14.325918Z",
          "iopub.status.busy": "2024-05-24T20:52:14.325529Z",
          "iopub.status.idle": "2024-05-24T20:52:14.331964Z",
          "shell.execute_reply": "2024-05-24T20:52:14.330879Z"
        },
        "papermill": {
          "duration": 0.026534,
          "end_time": "2024-05-24T20:52:14.334167",
          "exception": false,
          "start_time": "2024-05-24T20:52:14.307633",
          "status": "completed"
        },
        "tags": [],
        "id": "50186de0",
        "outputId": "7ab3b4ca-72ae-4ce1-bab1-15c76ffc427d"
      },
      "outputs": [
        {
          "data": {
            "text/plain": [
              "(268, 16)"
            ]
          },
          "execution_count": 18,
          "metadata": {},
          "output_type": "execute_result"
        }
      ],
      "source": [
        "X_train.shape"
      ]
    },
    {
      "cell_type": "code",
      "execution_count": null,
      "id": "afb2d3f2",
      "metadata": {
        "_kg_hide-input": true,
        "execution": {
          "iopub.execute_input": "2024-05-24T20:52:14.369776Z",
          "iopub.status.busy": "2024-05-24T20:52:14.369389Z",
          "iopub.status.idle": "2024-05-24T20:52:14.375418Z",
          "shell.execute_reply": "2024-05-24T20:52:14.374386Z"
        },
        "papermill": {
          "duration": 0.026707,
          "end_time": "2024-05-24T20:52:14.377736",
          "exception": false,
          "start_time": "2024-05-24T20:52:14.351029",
          "status": "completed"
        },
        "tags": [],
        "id": "afb2d3f2",
        "outputId": "1c57d2c8-1923-4812-d4f6-9d8a8d37fcee"
      },
      "outputs": [
        {
          "data": {
            "text/plain": [
              "(268,)"
            ]
          },
          "execution_count": 19,
          "metadata": {},
          "output_type": "execute_result"
        }
      ],
      "source": [
        "y_train.shape"
      ]
    },
    {
      "cell_type": "markdown",
      "id": "5f77bcf5",
      "metadata": {
        "papermill": {
          "duration": 0.017004,
          "end_time": "2024-05-24T20:52:14.411793",
          "exception": false,
          "start_time": "2024-05-24T20:52:14.394789",
          "status": "completed"
        },
        "tags": [],
        "id": "5f77bcf5"
      },
      "source": [
        "## 2.4 Feature Importance"
      ]
    },
    {
      "cell_type": "markdown",
      "id": "38f0e4b4",
      "metadata": {
        "papermill": {
          "duration": 0.017335,
          "end_time": "2024-05-24T20:52:14.446614",
          "exception": false,
          "start_time": "2024-05-24T20:52:14.429279",
          "status": "completed"
        },
        "tags": [],
        "id": "38f0e4b4"
      },
      "source": [
        "I want to know what features are most important for predicting the target variable in this dataset. There are two ways to approach this, and I'll apply both to get the full picture: Feature Importance scores as well as Permutation Importance."
      ]
    },
    {
      "cell_type": "code",
      "execution_count": null,
      "id": "887f53d2",
      "metadata": {
        "_kg_hide-input": true,
        "execution": {
          "iopub.execute_input": "2024-05-24T20:52:14.482483Z",
          "iopub.status.busy": "2024-05-24T20:52:14.482127Z",
          "iopub.status.idle": "2024-05-24T20:52:14.671242Z",
          "shell.execute_reply": "2024-05-24T20:52:14.670037Z"
        },
        "papermill": {
          "duration": 0.209968,
          "end_time": "2024-05-24T20:52:14.673884",
          "exception": false,
          "start_time": "2024-05-24T20:52:14.463916",
          "status": "completed"
        },
        "tags": [],
        "id": "887f53d2",
        "outputId": "8e269de0-ca30-43a2-94cd-8d5956a7b7b3"
      },
      "outputs": [
        {
          "data": {
            "text/plain": [
              "Response                0.399827\n",
              "Risk                    0.175691\n",
              "N                       0.093147\n",
              "T                       0.075028\n",
              "Age                     0.071489\n",
              "Adenopathy              0.039452\n",
              "Stage                   0.038854\n",
              "Physical Examination    0.025624\n",
              "Gender                  0.023471\n",
              "Focality                0.016674\n",
              "Thyroid Function        0.012287\n",
              "Pathology               0.011760\n",
              "Smoking                 0.008643\n",
              "Hx Smoking              0.004103\n",
              "M                       0.003722\n",
              "Hx Radiothreapy         0.000228\n",
              "dtype: float64"
            ]
          },
          "execution_count": 20,
          "metadata": {},
          "output_type": "execute_result"
        }
      ],
      "source": [
        "# create the classifier with n_estimators = 100\n",
        "clf = RandomForestClassifier(n_estimators=100, random_state=0)\n",
        "\n",
        "# fit the model to the training set\n",
        "clf.fit(X_train, y_train)\n",
        "\n",
        "# view the feature scores\n",
        "feature_scores = pd.Series(clf.feature_importances_, index=X_train.columns).sort_values(ascending=False)\n",
        "\n",
        "feature_scores"
      ]
    },
    {
      "cell_type": "code",
      "execution_count": null,
      "id": "d5339505",
      "metadata": {
        "_kg_hide-input": true,
        "execution": {
          "iopub.execute_input": "2024-05-24T20:52:14.710481Z",
          "iopub.status.busy": "2024-05-24T20:52:14.710096Z",
          "iopub.status.idle": "2024-05-24T20:52:15.129640Z",
          "shell.execute_reply": "2024-05-24T20:52:15.128846Z"
        },
        "papermill": {
          "duration": 0.440443,
          "end_time": "2024-05-24T20:52:15.132008",
          "exception": false,
          "start_time": "2024-05-24T20:52:14.691565",
          "status": "completed"
        },
        "tags": [],
        "id": "d5339505",
        "outputId": "76fa77b1-7494-4949-9e97-1054aa5ce5bb"
      },
      "outputs": [
        {
          "data": {
            "image/png": "[encoded data removed]",
            "text/plain": [
              "<Figure size 1000x600 with 1 Axes>"
            ]
          },
          "metadata": {},
          "output_type": "display_data"
        }
      ],
      "source": [
        "plt.figure(figsize=(10, 6))\n",
        "sns.barplot(x=feature_scores.values, y=feature_scores.index, palette=\"viridis\")\n",
        "plt.xlabel('Feature Importance Score')\n",
        "plt.ylabel('Features')\n",
        "plt.title('Feature Importance Scores')\n",
        "plt.show()"
      ]
    },
    {
      "cell_type": "markdown",
      "id": "6bff01a5",
      "metadata": {
        "papermill": {
          "duration": 0.020258,
          "end_time": "2024-05-24T20:52:15.170765",
          "exception": false,
          "start_time": "2024-05-24T20:52:15.150507",
          "status": "completed"
        },
        "tags": [],
        "id": "6bff01a5"
      },
      "source": [
        "Above we see the feature importance scores plotted in a bar chart. Response is the most important feature, by far, for predicting the recurrence of thyroid cancer."
      ]
    },
    {
      "cell_type": "markdown",
      "id": "cf90e198",
      "metadata": {
        "papermill": {
          "duration": 0.017949,
          "end_time": "2024-05-24T20:52:15.207277",
          "exception": false,
          "start_time": "2024-05-24T20:52:15.189328",
          "status": "completed"
        },
        "tags": [],
        "id": "cf90e198"
      },
      "source": [
        "## 2.4 Permutation Importance"
      ]
    },
    {
      "cell_type": "code",
      "execution_count": null,
      "id": "e3d2a5be",
      "metadata": {
        "_kg_hide-input": true,
        "execution": {
          "iopub.execute_input": "2024-05-24T20:52:15.247901Z",
          "iopub.status.busy": "2024-05-24T20:52:15.247451Z",
          "iopub.status.idle": "2024-05-24T20:52:19.559471Z",
          "shell.execute_reply": "2024-05-24T20:52:19.558348Z"
        },
        "papermill": {
          "duration": 4.335907,
          "end_time": "2024-05-24T20:52:19.561978",
          "exception": false,
          "start_time": "2024-05-24T20:52:15.226071",
          "status": "completed"
        },
        "tags": [],
        "id": "e3d2a5be",
        "outputId": "d38a7a31-bdf1-4925-d891-c1ad4380185c"
      },
      "outputs": [
        {
          "name": "stdout",
          "output_type": "stream",
          "text": [
            "\n",
            "Permutation Importances:\n",
            "                        Importance\n",
            "Response              2.710145e-01\n",
            "Risk                  1.304348e-02\n",
            "N                     8.985507e-03\n",
            "Stage                 8.405797e-03\n",
            "Age                   6.666667e-03\n",
            "T                     3.768116e-03\n",
            "Focality              3.478261e-03\n",
            "Adenopathy            2.898551e-03\n",
            "Physical Examination  2.608696e-03\n",
            "Gender                1.480297e-17\n",
            "Smoking               0.000000e+00\n",
            "Hx Smoking            0.000000e+00\n",
            "Hx Radiothreapy       0.000000e+00\n",
            "Pathology             0.000000e+00\n",
            "M                     0.000000e+00\n",
            "Thyroid Function     -1.449275e-03\n"
          ]
        }
      ],
      "source": [
        "from sklearn.inspection import permutation_importance\n",
        "\n",
        "# Determine permutation importance\n",
        "perm_importance = permutation_importance(clf, X_test, y_test, n_repeats=30, random_state=0)\n",
        "\n",
        "# Create a DataFrame for permutation importances\n",
        "perm_importances = pd.DataFrame(perm_importance.importances, index=X_test.columns).T\n",
        "\n",
        "# Convert permutation importance results into a DataFrame\n",
        "perm_importance_df = pd.DataFrame(perm_importance.importances_mean, index=X_test.columns, columns=['Importance'])\n",
        "perm_importance_df.sort_values(by='Importance', ascending=False, inplace=True)\n",
        "\n",
        "print(\"\\nPermutation Importances:\")\n",
        "print(perm_importance_df)"
      ]
    },
    {
      "cell_type": "code",
      "execution_count": null,
      "id": "38d176be",
      "metadata": {
        "_kg_hide-input": true,
        "execution": {
          "iopub.execute_input": "2024-05-24T20:52:19.599391Z",
          "iopub.status.busy": "2024-05-24T20:52:19.599021Z",
          "iopub.status.idle": "2024-05-24T20:52:20.092933Z",
          "shell.execute_reply": "2024-05-24T20:52:20.091876Z"
        },
        "papermill": {
          "duration": 0.515277,
          "end_time": "2024-05-24T20:52:20.095205",
          "exception": false,
          "start_time": "2024-05-24T20:52:19.579928",
          "status": "completed"
        },
        "tags": [],
        "id": "38d176be",
        "outputId": "789709e3-71a6-49e8-a4de-942ef81f17c6"
      },
      "outputs": [
        {
          "data": {
            "image/png": "[encoded data removed]",
            "text/plain": [
              "<Figure size 1200x800 with 1 Axes>"
            ]
          },
          "metadata": {},
          "output_type": "display_data"
        }
      ],
      "source": [
        "# Plotting the permutation importance using box plots\n",
        "plt.figure(figsize=(12, 8))\n",
        "sns.boxplot(data=perm_importances, orient='h')\n",
        "plt.title('Permutation Importances of Features')\n",
        "plt.xlabel('Decrease in Accuracy')\n",
        "plt.ylabel('Feature')\n",
        "plt.show()"
      ]
    },
    {
      "cell_type": "markdown",
      "id": "58efd05b",
      "metadata": {
        "papermill": {
          "duration": 0.018458,
          "end_time": "2024-05-24T20:52:20.132587",
          "exception": false,
          "start_time": "2024-05-24T20:52:20.114129",
          "status": "completed"
        },
        "tags": [],
        "id": "58efd05b"
      },
      "source": [
        "Response has the greatest effect on accuracy, and is by far the most relevant feature in terms of permutation importance."
      ]
    },
    {
      "cell_type": "markdown",
      "id": "b31279f4",
      "metadata": {
        "papermill": {
          "duration": 0.019877,
          "end_time": "2024-05-24T20:52:20.171142",
          "exception": false,
          "start_time": "2024-05-24T20:52:20.151265",
          "status": "completed"
        },
        "tags": [],
        "id": "b31279f4"
      },
      "source": [
        "# 3. Building and Evaluating a Model"
      ]
    },
    {
      "cell_type": "markdown",
      "id": "cdd7497f",
      "metadata": {
        "papermill": {
          "duration": 0.018266,
          "end_time": "2024-05-24T20:52:20.208147",
          "exception": false,
          "start_time": "2024-05-24T20:52:20.189881",
          "status": "completed"
        },
        "tags": [],
        "id": "cdd7497f"
      },
      "source": [
        "## 3.1 Selecting a Classification Model"
      ]
    },
    {
      "cell_type": "markdown",
      "id": "688dacd5",
      "metadata": {
        "papermill": {
          "duration": 0.018406,
          "end_time": "2024-05-24T20:52:20.245242",
          "exception": false,
          "start_time": "2024-05-24T20:52:20.226836",
          "status": "completed"
        },
        "tags": [],
        "id": "688dacd5"
      },
      "source": [
        "I'm going to create an empty list model_scores and use a for loop to cycle through 8 popular classification models using similar parameters, and then I will determine the best model depending on the Accuracy, F1 Score, and Precision. Shoutout to @abdmental01 for sharing this technique!"
      ]
    },
    {
      "cell_type": "code",
      "execution_count": null,
      "id": "69187be2",
      "metadata": {
        "_kg_hide-input": true,
        "execution": {
          "iopub.execute_input": "2024-05-24T20:52:20.285028Z",
          "iopub.status.busy": "2024-05-24T20:52:20.284531Z",
          "iopub.status.idle": "2024-05-24T20:52:26.495384Z",
          "shell.execute_reply": "2024-05-24T20:52:26.493942Z"
        },
        "papermill": {
          "duration": 6.23346,
          "end_time": "2024-05-24T20:52:26.497670",
          "exception": false,
          "start_time": "2024-05-24T20:52:20.264210",
          "status": "completed"
        },
        "tags": [],
        "id": "69187be2",
        "outputId": "58d7091b-0a10-4aa7-cfef-25361997eebe"
      },
      "outputs": [
        {
          "name": "stdout",
          "output_type": "stream",
          "text": [
            "Accuracy Of Models\n",
            "Accuracy_score for KNeighborsClassifier is  0.91\n",
            "Accuracy_score for LogicRegression is  0.92\n",
            "Accuracy_score for SVC is  0.94\n",
            "Accuracy_score for AdaBoostClassifier is  0.95\n",
            "Accuracy_score for GradientBoostingClassifier is  0.97\n",
            "Accuracy_score for XGBClassifier is  0.97\n",
            "Accuracy_score for DecisionTreeClassifier is  0.98\n",
            "Accuracy_score for RandomForestClassifier is  0.98\n",
            "\n",
            "\n",
            "F1 Score Of Models\n",
            "F1_Score for KNeighborsClassifier is  0.88\n",
            "F1_Score for LogicRegression is  0.90\n",
            "F1_Score for SVC is  0.92\n",
            "F1_Score for AdaBoostClassifier is  0.94\n",
            "F1_Score for GradientBoostingClassifier is  0.96\n",
            "F1_Score for XGBClassifier is  0.97\n",
            "F1_Score for DecisionTreeClassifier is  0.98\n",
            "F1_Score for RandomForestClassifier is  0.98\n",
            "\n",
            "\n",
            "Precision Of Models\n",
            "Precision for KNeighborsClassifier is  0.93\n",
            "Precision for LogicRegression is  0.91\n",
            "Precision for SVC is  0.94\n",
            "Precision for AdaBoostClassifier is  0.94\n",
            "Precision for GradientBoostingClassifier is  0.95\n",
            "Precision for XGBClassifier is  0.96\n",
            "Precision for DecisionTreeClassifier is  0.98\n",
            "Precision for RandomForestClassifier is  0.98\n",
            "Best model based on Accuracy is DecisionTreeClassifier with Accuracy of 0.98\n",
            "Best model based on F1_Score is DecisionTreeClassifier with F1_Score of 0.98\n",
            "Best model based on Precision is DecisionTreeClassifier with Precision of 0.98\n"
          ]
        }
      ],
      "source": [
        "# # Create a dictionaries of list of models to evaluate performance with hyperparameters\n",
        "models = {\n",
        "          'LogicRegression' : (LogisticRegression(), {}),\n",
        "          'SVC' : (SVC(), {'kernel': ['rbf', 'poly', 'sigmoid']}),\n",
        "          'DecisionTreeClassifier' : (DecisionTreeClassifier(random_state=42), {'max_depth': [None, 5, 10],'random_state': [42]}),\n",
        "          'RandomForestClassifier' : (RandomForestClassifier(random_state=42), {'n_estimators': [10, 100],'random_state': [42],'max_depth': [None, 5, 10]}),\n",
        "          'KNeighborsClassifier' : (KNeighborsClassifier(), {'n_neighbors': np.arange(3, 100, 2),}),\n",
        "          'GradientBoostingClassifier' : (GradientBoostingClassifier(random_state=42),{'n_estimators': [10, 100],'random_state': [42]}),\n",
        "          'XGBClassifier' : (XGBClassifier(), {'n_estimators': [10, 100]}),\n",
        "          'AdaBoostClassifier': (AdaBoostClassifier(random_state=42), {'n_estimators': [10, 100],'random_state': [42]}),\n",
        "          }\n",
        "\n",
        "# train and predict each model with evaluation metrics as well making a for loop to iterate over the models\n",
        "model_scores = []\n",
        "for name, (model, params) in models.items():\n",
        "    # create a pipline\n",
        "    pipeline =RandomizedSearchCV(model, params, cv=5)\n",
        "\n",
        "    # fit the pipeline\n",
        "    pipeline.fit(X_train, y_train)\n",
        "\n",
        "    # make prediction from each model\n",
        "    y_pred = pipeline.predict(X_test)\n",
        "    # Metric\n",
        "    accuracy = accuracy_score(y_test, y_pred)\n",
        "    f1 = f1_score(y_test, y_pred,average='macro')\n",
        "    precision = precision_score(y_test, y_pred,average='macro')\n",
        "    best_parameter = pipeline.best_params_\n",
        "    # Append these in the model_scores\n",
        "    model_scores.append((name,accuracy , f1 , precision,best_parameter))\n",
        "\n",
        "# selecting the best model from all above models with evaluation metrics sorting method\n",
        "sorted_models = sorted(model_scores, key=lambda x: x[1])\n",
        "\n",
        "# Printing Each model with evaluation metrics\n",
        "print('Accuracy Of Models')\n",
        "for model in sorted_models:\n",
        "    print('Accuracy_score for', f\"{model[0]} is {model[1]: .2f}\")\n",
        "print('\\n')\n",
        "print('F1 Score Of Models')\n",
        "for model in sorted_models:\n",
        "    print('F1_Score for', f\"{model[0]} is {model[2]: .2f}\")\n",
        "print('\\n')\n",
        "print('Precision Of Models')\n",
        "for model in sorted_models:\n",
        "    print('Precision for', f\"{model[0]} is {model[3]: .2f}\")\n",
        "# Selecting the best model based on MAE\n",
        "best_Accuracy_model = max(model_scores, key=lambda x: x[1])\n",
        "print(f\"Best model based on Accuracy is {best_Accuracy_model[0]} with Accuracy of {best_Accuracy_model[1]:.2f}\")\n",
        "\n",
        "# Selecting the best model based on R2\n",
        "best_f1_model = max(model_scores, key=lambda x: x[2])\n",
        "print(f\"Best model based on F1_Score is {best_f1_model[0]} with F1_Score of {best_f1_model[2]:.2f}\")\n",
        "\n",
        "# Selecting the best model based on MSE\n",
        "best_Precision_model = max(model_scores, key=lambda x: x[3])\n",
        "print(f\"Best model based on Precision is {best_Precision_model[0]} with Precision of {best_Precision_model[3]:.2f}\")"
      ]
    },
    {
      "cell_type": "markdown",
      "id": "c7b99d34",
      "metadata": {
        "papermill": {
          "duration": 0.018963,
          "end_time": "2024-05-24T20:52:26.535817",
          "exception": false,
          "start_time": "2024-05-24T20:52:26.516854",
          "status": "completed"
        },
        "tags": [],
        "id": "c7b99d34"
      },
      "source": [
        "I can see that a RandomForestClassifier or DecisionTreeClassifier will likely result in the greatest accuracy on this dataset. I'll try both out and select the model which performs best."
      ]
    },
    {
      "cell_type": "markdown",
      "id": "6cae8618",
      "metadata": {
        "papermill": {
          "duration": 0.018484,
          "end_time": "2024-05-24T20:52:26.573116",
          "exception": false,
          "start_time": "2024-05-24T20:52:26.554632",
          "status": "completed"
        },
        "tags": [],
        "id": "6cae8618"
      },
      "source": [
        "## 3.2 Building a Decision Tree Model"
      ]
    },
    {
      "cell_type": "code",
      "execution_count": null,
      "id": "5e2b6275",
      "metadata": {
        "_kg_hide-input": true,
        "execution": {
          "iopub.execute_input": "2024-05-24T20:52:26.613575Z",
          "iopub.status.busy": "2024-05-24T20:52:26.613196Z",
          "iopub.status.idle": "2024-05-24T20:52:26.623480Z",
          "shell.execute_reply": "2024-05-24T20:52:26.622337Z"
        },
        "papermill": {
          "duration": 0.033428,
          "end_time": "2024-05-24T20:52:26.625856",
          "exception": false,
          "start_time": "2024-05-24T20:52:26.592428",
          "status": "completed"
        },
        "tags": [],
        "id": "5e2b6275"
      },
      "outputs": [],
      "source": [
        "dtc = DecisionTreeClassifier(max_depth = 10, random_state=42)\n",
        "dtc.fit(X_train, y_train)\n",
        "\n",
        "y_pred = dtc.predict(X_test)"
      ]
    },
    {
      "cell_type": "markdown",
      "id": "16118b6f",
      "metadata": {
        "papermill": {
          "duration": 0.018557,
          "end_time": "2024-05-24T20:52:26.663741",
          "exception": false,
          "start_time": "2024-05-24T20:52:26.645184",
          "status": "completed"
        },
        "tags": [],
        "id": "16118b6f"
      },
      "source": [
        "## 3.3 Decision Tree Model Evaluation"
      ]
    },
    {
      "cell_type": "code",
      "execution_count": null,
      "id": "5415eea7",
      "metadata": {
        "_kg_hide-input": true,
        "execution": {
          "iopub.execute_input": "2024-05-24T20:52:26.705245Z",
          "iopub.status.busy": "2024-05-24T20:52:26.704796Z",
          "iopub.status.idle": "2024-05-24T20:52:26.979048Z",
          "shell.execute_reply": "2024-05-24T20:52:26.977790Z"
        },
        "papermill": {
          "duration": 0.297905,
          "end_time": "2024-05-24T20:52:26.981482",
          "exception": false,
          "start_time": "2024-05-24T20:52:26.683577",
          "status": "completed"
        },
        "tags": [],
        "id": "5415eea7",
        "outputId": "99727478-5bc9-480a-b93b-e4d4612a7a36"
      },
      "outputs": [
        {
          "data": {
            "image/png": "[encoded data removed]",
            "text/plain": [
              "<Figure size 640x480 with 2 Axes>"
            ]
          },
          "metadata": {},
          "output_type": "display_data"
        }
      ],
      "source": [
        "predictions = dtc.predict(X_test)\n",
        "score = round(accuracy_score(y_test, predictions), 3)\n",
        "cm1 = cm(y_test, predictions)\n",
        "sns.heatmap(cm1, annot=True, fmt=\".0f\")\n",
        "plt.xlabel('Predicted Values')\n",
        "plt.ylabel('Actual Values')\n",
        "plt.title('Accuracy Score: {0}'.format(score), size = 15)\n",
        "plt.show()"
      ]
    },
    {
      "cell_type": "markdown",
      "id": "3c253307",
      "metadata": {
        "papermill": {
          "duration": 0.019196,
          "end_time": "2024-05-24T20:52:27.020653",
          "exception": false,
          "start_time": "2024-05-24T20:52:27.001457",
          "status": "completed"
        },
        "tags": [],
        "id": "3c253307"
      },
      "source": [
        "## 3.4 Building a Random Forest Model"
      ]
    },
    {
      "cell_type": "code",
      "execution_count": null,
      "id": "9e312f3e",
      "metadata": {
        "_kg_hide-input": true,
        "execution": {
          "iopub.execute_input": "2024-05-24T20:52:27.061637Z",
          "iopub.status.busy": "2024-05-24T20:52:27.060905Z",
          "iopub.status.idle": "2024-05-24T20:52:27.091231Z",
          "shell.execute_reply": "2024-05-24T20:52:27.090197Z"
        },
        "papermill": {
          "duration": 0.053619,
          "end_time": "2024-05-24T20:52:27.093731",
          "exception": false,
          "start_time": "2024-05-24T20:52:27.040112",
          "status": "completed"
        },
        "tags": [],
        "id": "9e312f3e"
      },
      "outputs": [],
      "source": [
        "rfc = RandomForestClassifier(n_estimators=10, max_depth = 10, random_state=42)\n",
        "rfc.fit(X_train, y_train)\n",
        "\n",
        "y_pred = rfc.predict(X_test)"
      ]
    },
    {
      "cell_type": "markdown",
      "id": "c7d835b4",
      "metadata": {
        "papermill": {
          "duration": 0.019586,
          "end_time": "2024-05-24T20:52:27.132601",
          "exception": false,
          "start_time": "2024-05-24T20:52:27.113015",
          "status": "completed"
        },
        "tags": [],
        "id": "c7d835b4"
      },
      "source": [
        "## 3.5 Random Forest Model Evaluation"
      ]
    },
    {
      "cell_type": "code",
      "execution_count": null,
      "id": "1135a745",
      "metadata": {
        "_kg_hide-input": true,
        "execution": {
          "iopub.execute_input": "2024-05-24T20:52:27.178588Z",
          "iopub.status.busy": "2024-05-24T20:52:27.178168Z",
          "iopub.status.idle": "2024-05-24T20:52:27.553649Z",
          "shell.execute_reply": "2024-05-24T20:52:27.552590Z"
        },
        "papermill": {
          "duration": 0.40281,
          "end_time": "2024-05-24T20:52:27.555978",
          "exception": false,
          "start_time": "2024-05-24T20:52:27.153168",
          "status": "completed"
        },
        "tags": [],
        "id": "1135a745",
        "outputId": "b86ef73d-5701-4344-f721-9ccf3d3b3e0f"
      },
      "outputs": [
        {
          "data": {
            "image/png": "[encoded data removed]",
            "text/plain": [
              "<Figure size 640x480 with 2 Axes>"
            ]
          },
          "metadata": {},
          "output_type": "display_data"
        }
      ],
      "source": [
        "predictions = rfc.predict(X_test)\n",
        "score = round(accuracy_score(y_test, predictions), 3)\n",
        "cm1 = cm(y_test, predictions)\n",
        "sns.heatmap(cm1, annot=True, fmt=\".0f\")\n",
        "plt.xlabel('Predicted Values')\n",
        "plt.ylabel('Actual Values')\n",
        "plt.title('Accuracy Score: {0}'.format(score), size = 15)\n",
        "plt.show()"
      ]
    },
    {
      "cell_type": "code",
      "execution_count": null,
      "id": "94e47546",
      "metadata": {
        "_kg_hide-input": true,
        "execution": {
          "iopub.execute_input": "2024-05-24T20:52:27.598127Z",
          "iopub.status.busy": "2024-05-24T20:52:27.597080Z",
          "iopub.status.idle": "2024-05-24T20:52:27.607499Z",
          "shell.execute_reply": "2024-05-24T20:52:27.606276Z"
        },
        "papermill": {
          "duration": 0.033705,
          "end_time": "2024-05-24T20:52:27.609577",
          "exception": false,
          "start_time": "2024-05-24T20:52:27.575872",
          "status": "completed"
        },
        "tags": [],
        "id": "94e47546",
        "outputId": "acff185d-1863-4039-84a3-e94e44145d6e"
      },
      "outputs": [
        {
          "name": "stdout",
          "output_type": "stream",
          "text": [
            "Accuracy of the model is: 0.9826086956521739\n",
            "F1 score of the model is: 0.9783509036144578\n",
            "Precision of the model is: 0.9783509036144578\n"
          ]
        }
      ],
      "source": [
        "accuracy = accuracy_score(y_test, y_pred)\n",
        "f1 = f1_score(y_test, y_pred, average='macro')\n",
        "precision = precision_score(y_test, y_pred, average='macro')\n",
        "print(f'Accuracy of the model is: {accuracy}')\n",
        "print(f'F1 score of the model is: {f1}')\n",
        "print(f'Precision of the model is: {precision}')"
      ]
    },
    {
      "cell_type": "markdown",
      "id": "cdad05d4",
      "metadata": {
        "execution": {
          "iopub.execute_input": "2024-05-23T05:08:08.908566Z",
          "iopub.status.busy": "2024-05-23T05:08:08.907720Z",
          "iopub.status.idle": "2024-05-23T05:08:08.914041Z",
          "shell.execute_reply": "2024-05-23T05:08:08.912803Z",
          "shell.execute_reply.started": "2024-05-23T05:08:08.908512Z"
        },
        "papermill": {
          "duration": 0.021353,
          "end_time": "2024-05-24T20:52:27.650827",
          "exception": false,
          "start_time": "2024-05-24T20:52:27.629474",
          "status": "completed"
        },
        "tags": [],
        "id": "cdad05d4"
      },
      "source": [
        "# 4. Conclusion"
      ]
    },
    {
      "cell_type": "markdown",
      "id": "6f6e97bd",
      "metadata": {
        "papermill": {
          "duration": 0.020664,
          "end_time": "2024-05-24T20:52:27.691478",
          "exception": false,
          "start_time": "2024-05-24T20:52:27.670814",
          "status": "completed"
        },
        "tags": [],
        "id": "6f6e97bd"
      },
      "source": [
        "* A Random Forest Classifier is the most effective model to predict recurrence of Thyroid cancer using this dataset\n",
        "\n",
        "* The most important feature in determining this calculation is 'Response', followed by 'Risk'\n",
        "\n",
        "* The Random Forest model we chose is 98.3% accurate when compared to the test set\n",
        "\n",
        "* The F1 score of the Random Forest Model is 97.8%\n",
        "\n",
        "* The precision of the Random Forest Model is 97.8%\n",
        "\n",
        "* This is a relatively small dataset (383 entries) and I would love to see how the model fairs on a larger slice of data"
      ]
    },
    {
      "cell_type": "markdown",
      "id": "0d4e7045",
      "metadata": {
        "papermill": {
          "duration": 0.019739,
          "end_time": "2024-05-24T20:52:27.731066",
          "exception": false,
          "start_time": "2024-05-24T20:52:27.711327",
          "status": "completed"
        },
        "tags": [],
        "id": "0d4e7045"
      },
      "source": [
        "# Bonus: What Happens if we Drop the Most Important Feature?"
      ]
    },
    {
      "cell_type": "markdown",
      "id": "4d4c43f3",
      "metadata": {
        "papermill": {
          "duration": 0.019555,
          "end_time": "2024-05-24T20:52:27.770620",
          "exception": false,
          "start_time": "2024-05-24T20:52:27.751065",
          "status": "completed"
        },
        "tags": [],
        "id": "4d4c43f3"
      },
      "source": [
        "I'm going to drop 'Response' from the training and testing sets and see how our model responds to losing the most important feature."
      ]
    },
    {
      "cell_type": "code",
      "execution_count": null,
      "id": "060d64dc",
      "metadata": {
        "_kg_hide-input": true,
        "execution": {
          "iopub.execute_input": "2024-05-24T20:52:27.812502Z",
          "iopub.status.busy": "2024-05-24T20:52:27.811827Z",
          "iopub.status.idle": "2024-05-24T20:52:27.817546Z",
          "shell.execute_reply": "2024-05-24T20:52:27.816567Z"
        },
        "papermill": {
          "duration": 0.029364,
          "end_time": "2024-05-24T20:52:27.819864",
          "exception": false,
          "start_time": "2024-05-24T20:52:27.790500",
          "status": "completed"
        },
        "tags": [],
        "id": "060d64dc"
      },
      "outputs": [],
      "source": [
        "X_train = X_train.drop('Response', axis=1)"
      ]
    },
    {
      "cell_type": "code",
      "execution_count": null,
      "id": "3bcb4eb4",
      "metadata": {
        "_kg_hide-input": true,
        "execution": {
          "iopub.execute_input": "2024-05-24T20:52:27.861779Z",
          "iopub.status.busy": "2024-05-24T20:52:27.861381Z",
          "iopub.status.idle": "2024-05-24T20:52:27.867350Z",
          "shell.execute_reply": "2024-05-24T20:52:27.866145Z"
        },
        "papermill": {
          "duration": 0.030032,
          "end_time": "2024-05-24T20:52:27.869897",
          "exception": false,
          "start_time": "2024-05-24T20:52:27.839865",
          "status": "completed"
        },
        "tags": [],
        "id": "3bcb4eb4"
      },
      "outputs": [],
      "source": [
        "X_test = X_test.drop('Response', axis=1)"
      ]
    },
    {
      "cell_type": "code",
      "execution_count": null,
      "id": "417e9b7c",
      "metadata": {
        "_kg_hide-input": true,
        "execution": {
          "iopub.execute_input": "2024-05-24T20:52:27.911347Z",
          "iopub.status.busy": "2024-05-24T20:52:27.910932Z",
          "iopub.status.idle": "2024-05-24T20:52:27.942703Z",
          "shell.execute_reply": "2024-05-24T20:52:27.941602Z"
        },
        "papermill": {
          "duration": 0.055244,
          "end_time": "2024-05-24T20:52:27.945073",
          "exception": false,
          "start_time": "2024-05-24T20:52:27.889829",
          "status": "completed"
        },
        "tags": [],
        "id": "417e9b7c",
        "outputId": "81fa5382-2037-4abb-a253-69314d2fe614"
      },
      "outputs": [
        {
          "data": {
            "text/html": [
              "<style>#sk-container-id-1 {color: black;background-color: white;}#sk-container-id-1 pre{padding: 0;}#sk-container-id-1 div.sk-toggleable {background-color: white;}#sk-container-id-1 label.sk-toggleable__label {cursor: pointer;display: block;width: 100%;margin-bottom: 0;padding: 0.3em;box-sizing: border-box;text-align: center;}#sk-container-id-1 label.sk-toggleable__label-arrow:before {content: \"▸\";float: left;margin-right: 0.25em;color: #696969;}#sk-container-id-1 label.sk-toggleable__label-arrow:hover:before {color: black;}#sk-container-id-1 div.sk-estimator:hover label.sk-toggleable__label-arrow:before {color: black;}#sk-container-id-1 div.sk-toggleable__content {max-height: 0;max-width: 0;overflow: hidden;text-align: left;background-color: #f0f8ff;}#sk-container-id-1 div.sk-toggleable__content pre {margin: 0.2em;color: black;border-radius: 0.25em;background-color: #f0f8ff;}#sk-container-id-1 input.sk-toggleable__control:checked~div.sk-toggleable__content {max-height: 200px;max-width: 100%;overflow: auto;}#sk-container-id-1 input.sk-toggleable__control:checked~label.sk-toggleable__label-arrow:before {content: \"▾\";}#sk-container-id-1 div.sk-estimator input.sk-toggleable__control:checked~label.sk-toggleable__label {background-color: #d4ebff;}#sk-container-id-1 div.sk-label input.sk-toggleable__control:checked~label.sk-toggleable__label {background-color: #d4ebff;}#sk-container-id-1 input.sk-hidden--visually {border: 0;clip: rect(1px 1px 1px 1px);clip: rect(1px, 1px, 1px, 1px);height: 1px;margin: -1px;overflow: hidden;padding: 0;position: absolute;width: 1px;}#sk-container-id-1 div.sk-estimator {font-family: monospace;background-color: #f0f8ff;border: 1px dotted black;border-radius: 0.25em;box-sizing: border-box;margin-bottom: 0.5em;}#sk-container-id-1 div.sk-estimator:hover {background-color: #d4ebff;}#sk-container-id-1 div.sk-parallel-item::after {content: \"\";width: 100%;border-bottom: 1px solid gray;flex-grow: 1;}#sk-container-id-1 div.sk-label:hover label.sk-toggleable__label {background-color: #d4ebff;}#sk-container-id-1 div.sk-serial::before {content: \"\";position: absolute;border-left: 1px solid gray;box-sizing: border-box;top: 0;bottom: 0;left: 50%;z-index: 0;}#sk-container-id-1 div.sk-serial {display: flex;flex-direction: column;align-items: center;background-color: white;padding-right: 0.2em;padding-left: 0.2em;position: relative;}#sk-container-id-1 div.sk-item {position: relative;z-index: 1;}#sk-container-id-1 div.sk-parallel {display: flex;align-items: stretch;justify-content: center;background-color: white;position: relative;}#sk-container-id-1 div.sk-item::before, #sk-container-id-1 div.sk-parallel-item::before {content: \"\";position: absolute;border-left: 1px solid gray;box-sizing: border-box;top: 0;bottom: 0;left: 50%;z-index: -1;}#sk-container-id-1 div.sk-parallel-item {display: flex;flex-direction: column;z-index: 1;position: relative;background-color: white;}#sk-container-id-1 div.sk-parallel-item:first-child::after {align-self: flex-end;width: 50%;}#sk-container-id-1 div.sk-parallel-item:last-child::after {align-self: flex-start;width: 50%;}#sk-container-id-1 div.sk-parallel-item:only-child::after {width: 0;}#sk-container-id-1 div.sk-dashed-wrapped {border: 1px dashed gray;margin: 0 0.4em 0.5em 0.4em;box-sizing: border-box;padding-bottom: 0.4em;background-color: white;}#sk-container-id-1 div.sk-label label {font-family: monospace;font-weight: bold;display: inline-block;line-height: 1.2em;}#sk-container-id-1 div.sk-label-container {text-align: center;}#sk-container-id-1 div.sk-container {/* jupyter's `normalize.less` sets `[hidden] { display: none; }` but bootstrap.min.css set `[hidden] { display: none !important; }` so we also need the `!important` here to be able to override the default hidden behavior on the sphinx rendered scikit-learn.org. See: https://github.com/scikit-learn/scikit-learn/issues/21755 */display: inline-block !important;position: relative;}#sk-container-id-1 div.sk-text-repr-fallback {display: none;}</style><div id=\"sk-container-id-1\" class=\"sk-top-container\"><div class=\"sk-text-repr-fallback\"><pre>RandomForestClassifier(max_depth=10, n_estimators=10, random_state=42)</pre><b>In a Jupyter environment, please rerun this cell to show the HTML representation or trust the notebook. <br />On GitHub, the HTML representation is unable to render, please try loading this page with nbviewer.org.</b></div><div class=\"sk-container\" hidden><div class=\"sk-item\"><div class=\"sk-estimator sk-toggleable\"><input class=\"sk-toggleable__control sk-hidden--visually\" id=\"sk-estimator-id-1\" type=\"checkbox\" checked><label for=\"sk-estimator-id-1\" class=\"sk-toggleable__label sk-toggleable__label-arrow\">RandomForestClassifier</label><div class=\"sk-toggleable__content\"><pre>RandomForestClassifier(max_depth=10, n_estimators=10, random_state=42)</pre></div></div></div></div></div>"
            ],
            "text/plain": [
              "RandomForestClassifier(max_depth=10, n_estimators=10, random_state=42)"
            ]
          },
          "execution_count": 32,
          "metadata": {},
          "output_type": "execute_result"
        }
      ],
      "source": [
        "# create the classifier with n_estimators = 100\n",
        "clf = RandomForestClassifier(n_estimators=10, max_depth = 10, random_state=42)\n",
        "\n",
        "# fit the model to the training set\n",
        "clf.fit(X_train, y_train)"
      ]
    },
    {
      "cell_type": "markdown",
      "id": "77f05d39",
      "metadata": {
        "papermill": {
          "duration": 0.020881,
          "end_time": "2024-05-24T20:52:27.985941",
          "exception": false,
          "start_time": "2024-05-24T20:52:27.965060",
          "status": "completed"
        },
        "tags": [],
        "id": "77f05d39"
      },
      "source": [
        "I want to see the permutation importance of features with 'Response' removed."
      ]
    },
    {
      "cell_type": "code",
      "execution_count": null,
      "id": "542ff65d",
      "metadata": {
        "_kg_hide-input": true,
        "execution": {
          "iopub.execute_input": "2024-05-24T20:52:28.028116Z",
          "iopub.status.busy": "2024-05-24T20:52:28.027725Z",
          "iopub.status.idle": "2024-05-24T20:52:29.418733Z",
          "shell.execute_reply": "2024-05-24T20:52:29.417585Z"
        },
        "papermill": {
          "duration": 1.415903,
          "end_time": "2024-05-24T20:52:29.422071",
          "exception": false,
          "start_time": "2024-05-24T20:52:28.006168",
          "status": "completed"
        },
        "tags": [],
        "id": "542ff65d",
        "outputId": "424a2342-d62d-457d-8d2c-ffdd6db898a1"
      },
      "outputs": [
        {
          "name": "stdout",
          "output_type": "stream",
          "text": [
            "\n",
            "Permutation Importances:\n",
            "                      Importance\n",
            "Risk                    0.081739\n",
            "N                       0.027246\n",
            "Stage                   0.009855\n",
            "Focality                0.004638\n",
            "Thyroid Function        0.001159\n",
            "Hx Radiothreapy         0.000000\n",
            "Hx Smoking             -0.000580\n",
            "Smoking                -0.000580\n",
            "M                      -0.000870\n",
            "Pathology              -0.002319\n",
            "T                      -0.004348\n",
            "Age                    -0.007246\n",
            "Physical Examination   -0.008696\n",
            "Gender                 -0.009855\n",
            "Adenopathy             -0.016232\n"
          ]
        }
      ],
      "source": [
        "from sklearn.inspection import permutation_importance\n",
        "\n",
        "# Determine permutation importance\n",
        "perm_importance = permutation_importance(clf, X_test, y_test, n_repeats=30, random_state=0)\n",
        "\n",
        "# Create a DataFrame for permutation importances\n",
        "perm_importances = pd.DataFrame(perm_importance.importances, index=X_test.columns).T\n",
        "\n",
        "# Convert permutation importance results into a DataFrame\n",
        "perm_importance_df = pd.DataFrame(perm_importance.importances_mean, index=X_test.columns, columns=['Importance'])\n",
        "perm_importance_df.sort_values(by='Importance', ascending=False, inplace=True)\n",
        "\n",
        "print(\"\\nPermutation Importances:\")\n",
        "print(perm_importance_df)"
      ]
    },
    {
      "cell_type": "code",
      "execution_count": null,
      "id": "3a84de31",
      "metadata": {
        "_kg_hide-input": true,
        "execution": {
          "iopub.execute_input": "2024-05-24T20:52:29.465105Z",
          "iopub.status.busy": "2024-05-24T20:52:29.464352Z",
          "iopub.status.idle": "2024-05-24T20:52:29.936224Z",
          "shell.execute_reply": "2024-05-24T20:52:29.935118Z"
        },
        "papermill": {
          "duration": 0.496522,
          "end_time": "2024-05-24T20:52:29.939080",
          "exception": false,
          "start_time": "2024-05-24T20:52:29.442558",
          "status": "completed"
        },
        "tags": [],
        "id": "3a84de31",
        "outputId": "692cb7ad-fee1-4da2-bc4a-f54edae14504"
      },
      "outputs": [
        {
          "data": {
            "image/png": "[encoded data removed]",
            "text/plain": [
              "<Figure size 1200x800 with 1 Axes>"
            ]
          },
          "metadata": {},
          "output_type": "display_data"
        }
      ],
      "source": [
        "# Plotting the permutation importance using box plots\n",
        "plt.figure(figsize=(12, 8))\n",
        "sns.boxplot(data=perm_importances, orient='h')\n",
        "plt.title('Permutation Importances of Features')\n",
        "plt.xlabel('Decrease in Accuracy')\n",
        "plt.ylabel('Feature')\n",
        "plt.show()"
      ]
    },
    {
      "cell_type": "markdown",
      "id": "32ef17e4",
      "metadata": {
        "papermill": {
          "duration": 0.020833,
          "end_time": "2024-05-24T20:52:29.981651",
          "exception": false,
          "start_time": "2024-05-24T20:52:29.960818",
          "status": "completed"
        },
        "tags": [],
        "id": "32ef17e4"
      },
      "source": [
        "I can see now that risk is the most important feature. Note that none of these features have close to the same effect on decrease in accuracy that 'Response' had earlier.\n",
        "\n",
        "I'll fit a random forest model to the adjusted training sets."
      ]
    },
    {
      "cell_type": "code",
      "execution_count": null,
      "id": "625c16f1",
      "metadata": {
        "_kg_hide-input": true,
        "execution": {
          "iopub.execute_input": "2024-05-24T20:52:30.027379Z",
          "iopub.status.busy": "2024-05-24T20:52:30.027004Z",
          "iopub.status.idle": "2024-05-24T20:52:30.058430Z",
          "shell.execute_reply": "2024-05-24T20:52:30.057226Z"
        },
        "papermill": {
          "duration": 0.057053,
          "end_time": "2024-05-24T20:52:30.060975",
          "exception": false,
          "start_time": "2024-05-24T20:52:30.003922",
          "status": "completed"
        },
        "tags": [],
        "id": "625c16f1"
      },
      "outputs": [],
      "source": [
        "rfc = RandomForestClassifier(n_estimators=10, max_depth = 3, random_state=42)\n",
        "rfc.fit(X_train, y_train)\n",
        "\n",
        "y_pred = rfc.predict(X_test)"
      ]
    },
    {
      "cell_type": "markdown",
      "id": "3200255b",
      "metadata": {
        "papermill": {
          "duration": 0.020689,
          "end_time": "2024-05-24T20:52:30.103010",
          "exception": false,
          "start_time": "2024-05-24T20:52:30.082321",
          "status": "completed"
        },
        "tags": [],
        "id": "3200255b"
      },
      "source": [
        "I'll evaluate the accuracy of the model visualized again in a confusion matrix."
      ]
    },
    {
      "cell_type": "code",
      "execution_count": null,
      "id": "24257de9",
      "metadata": {
        "_kg_hide-input": true,
        "execution": {
          "iopub.execute_input": "2024-05-24T20:52:30.147359Z",
          "iopub.status.busy": "2024-05-24T20:52:30.146994Z",
          "iopub.status.idle": "2024-05-24T20:52:30.373363Z",
          "shell.execute_reply": "2024-05-24T20:52:30.372343Z"
        },
        "papermill": {
          "duration": 0.251191,
          "end_time": "2024-05-24T20:52:30.375624",
          "exception": false,
          "start_time": "2024-05-24T20:52:30.124433",
          "status": "completed"
        },
        "tags": [],
        "id": "24257de9",
        "outputId": "2755f431-8c5f-4f91-918b-fe5d1e233470"
      },
      "outputs": [
        {
          "data": {
            "image/png": "[encoded data removed]",
            "text/plain": [
              "<Figure size 640x480 with 2 Axes>"
            ]
          },
          "metadata": {},
          "output_type": "display_data"
        }
      ],
      "source": [
        "predictions = rfc.predict(X_test)\n",
        "score = round(accuracy_score(y_test, predictions), 3)\n",
        "cm1 = cm(y_test, predictions)\n",
        "sns.heatmap(cm1, annot=True, fmt=\".0f\")\n",
        "plt.xlabel('Predicted Values')\n",
        "plt.ylabel('Actual Values')\n",
        "plt.title('Accuracy Score: {0}'.format(score), size = 15)\n",
        "plt.show()"
      ]
    },
    {
      "cell_type": "code",
      "execution_count": null,
      "id": "cb153762",
      "metadata": {
        "_kg_hide-input": true,
        "execution": {
          "iopub.execute_input": "2024-05-24T20:52:30.420497Z",
          "iopub.status.busy": "2024-05-24T20:52:30.420097Z",
          "iopub.status.idle": "2024-05-24T20:52:30.431469Z",
          "shell.execute_reply": "2024-05-24T20:52:30.430283Z"
        },
        "papermill": {
          "duration": 0.036758,
          "end_time": "2024-05-24T20:52:30.433810",
          "exception": false,
          "start_time": "2024-05-24T20:52:30.397052",
          "status": "completed"
        },
        "tags": [],
        "id": "cb153762",
        "outputId": "370c0e5c-d6bd-4062-d121-a85274029628"
      },
      "outputs": [
        {
          "name": "stdout",
          "output_type": "stream",
          "text": [
            "Accuracy of the model is: 0.8956521739130435\n",
            "F1 score of the model is: 0.8616680032076984\n",
            "Precision of the model is: 0.8917458945548833\n"
          ]
        }
      ],
      "source": [
        "accuracy = accuracy_score(y_test, y_pred)\n",
        "f1 = f1_score(y_test, y_pred, average='macro')\n",
        "precision = precision_score(y_test, y_pred, average='macro')\n",
        "print(f'Accuracy of the model is: {accuracy}')\n",
        "print(f'F1 score of the model is: {f1}')\n",
        "print(f'Precision of the model is: {precision}')"
      ]
    },
    {
      "cell_type": "markdown",
      "id": "7da9572d",
      "metadata": {
        "papermill": {
          "duration": 0.021927,
          "end_time": "2024-05-24T20:52:30.478013",
          "exception": false,
          "start_time": "2024-05-24T20:52:30.456086",
          "status": "completed"
        },
        "tags": [],
        "id": "7da9572d"
      },
      "source": [
        "The accuracy of the model drops (expectedly) but at 89.6% this is still a respectable model. We could somewhat reasonably predict the recurrence of thyroid cancer in absence of knowing the response to cancer treatment."
      ]
    }
  ],
  "metadata": {
    "kaggle": {
      "accelerator": "none",
      "dataSources": [
        {
          "datasetId": 5022080,
          "sourceId": 8432491,
          "sourceType": "datasetVersion"
        }
      ],
      "dockerImageVersionId": 30698,
      "isGpuEnabled": false,
      "isInternetEnabled": true,
      "language": "python",
      "sourceType": "notebook"
    },
    "kernelspec": {
      "display_name": "Python 3",
      "language": "python",
      "name": "python3"
    },
    "language_info": {
      "codemirror_mode": {
        "name": "ipython",
        "version": 3
      },
      "file_extension": ".py",
      "mimetype": "text/x-python",
      "name": "python",
      "nbconvert_exporter": "python",
      "pygments_lexer": "ipython3",
      "version": "3.10.13"
    },
    "papermill": {
      "default_parameters": {},
      "duration": 24.227315,
      "end_time": "2024-05-24T20:52:31.120328",
      "environment_variables": {},
      "exception": null,
      "input_path": "__notebook__.ipynb",
      "output_path": "__notebook__.ipynb",
      "parameters": {},
      "start_time": "2024-05-24T20:52:06.893013",
      "version": "2.5.0"
    },
    "colab": {
      "provenance": []
    }
  },
  "nbformat": 4,
  "nbformat_minor": 5
}